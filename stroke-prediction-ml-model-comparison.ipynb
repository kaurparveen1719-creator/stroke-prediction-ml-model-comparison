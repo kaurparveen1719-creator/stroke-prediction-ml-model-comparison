{
 "cells": [
  {
   "cell_type": "code",
   "execution_count": 1,
   "id": "a8e77ac5",
   "metadata": {
    "execution": {
     "iopub.execute_input": "2025-08-12T20:06:15.220052Z",
     "iopub.status.busy": "2025-08-12T20:06:15.219800Z",
     "iopub.status.idle": "2025-08-12T20:06:20.062807Z",
     "shell.execute_reply": "2025-08-12T20:06:20.062060Z"
    },
    "papermill": {
     "duration": 4.853427,
     "end_time": "2025-08-12T20:06:20.064221",
     "exception": false,
     "start_time": "2025-08-12T20:06:15.210794",
     "status": "completed"
    },
    "tags": []
   },
   "outputs": [
    {
     "name": "stdout",
     "output_type": "stream",
     "text": [
      "\u001b[2K   \u001b[90m━━━━━━━━━━━━━━━━━━━━━━━━━━━━━━━━━━━━━━━━\u001b[0m \u001b[32m226.0/226.0 kB\u001b[0m \u001b[31m6.6 MB/s\u001b[0m eta \u001b[36m0:00:00\u001b[0m\r\n",
      "\u001b[?25h"
     ]
    }
   ],
   "source": [
    "!pip install -U imbalanced-learn==0.10.1 scikit-learn==1.2.2 --quiet\n"
   ]
  },
  {
   "cell_type": "code",
   "execution_count": 2,
   "id": "7310a9b1",
   "metadata": {
    "execution": {
     "iopub.execute_input": "2025-08-12T20:06:20.080248Z",
     "iopub.status.busy": "2025-08-12T20:06:20.079590Z",
     "iopub.status.idle": "2025-08-12T20:06:22.783185Z",
     "shell.execute_reply": "2025-08-12T20:06:22.782565Z"
    },
    "papermill": {
     "duration": 2.712512,
     "end_time": "2025-08-12T20:06:22.784453",
     "exception": false,
     "start_time": "2025-08-12T20:06:20.071941",
     "status": "completed"
    },
    "tags": []
   },
   "outputs": [],
   "source": [
    "import pandas as pd \n",
    "import numpy as np\n",
    "import matplotlib.pyplot as plt\n",
    "import seaborn as sns"
   ]
  },
  {
   "cell_type": "markdown",
   "id": "1ad60c97",
   "metadata": {
    "papermill": {
     "duration": 0.006906,
     "end_time": "2025-08-12T20:06:22.799577",
     "exception": false,
     "start_time": "2025-08-12T20:06:22.792671",
     "status": "completed"
    },
    "tags": []
   },
   "source": [
    "# preprocssing"
   ]
  },
  {
   "cell_type": "code",
   "execution_count": 3,
   "id": "ca3ebf6f",
   "metadata": {
    "execution": {
     "iopub.execute_input": "2025-08-12T20:06:22.814463Z",
     "iopub.status.busy": "2025-08-12T20:06:22.814140Z",
     "iopub.status.idle": "2025-08-12T20:06:22.861631Z",
     "shell.execute_reply": "2025-08-12T20:06:22.860992Z"
    },
    "papermill": {
     "duration": 0.056361,
     "end_time": "2025-08-12T20:06:22.862779",
     "exception": false,
     "start_time": "2025-08-12T20:06:22.806418",
     "status": "completed"
    },
    "tags": []
   },
   "outputs": [
    {
     "data": {
      "text/html": [
       "<div>\n",
       "<style scoped>\n",
       "    .dataframe tbody tr th:only-of-type {\n",
       "        vertical-align: middle;\n",
       "    }\n",
       "\n",
       "    .dataframe tbody tr th {\n",
       "        vertical-align: top;\n",
       "    }\n",
       "\n",
       "    .dataframe thead th {\n",
       "        text-align: right;\n",
       "    }\n",
       "</style>\n",
       "<table border=\"1\" class=\"dataframe\">\n",
       "  <thead>\n",
       "    <tr style=\"text-align: right;\">\n",
       "      <th></th>\n",
       "      <th>id</th>\n",
       "      <th>gender</th>\n",
       "      <th>age</th>\n",
       "      <th>hypertension</th>\n",
       "      <th>heart_disease</th>\n",
       "      <th>ever_married</th>\n",
       "      <th>work_type</th>\n",
       "      <th>Residence_type</th>\n",
       "      <th>avg_glucose_level</th>\n",
       "      <th>bmi</th>\n",
       "      <th>smoking_status</th>\n",
       "      <th>stroke</th>\n",
       "    </tr>\n",
       "  </thead>\n",
       "  <tbody>\n",
       "    <tr>\n",
       "      <th>0</th>\n",
       "      <td>9046</td>\n",
       "      <td>Male</td>\n",
       "      <td>67.0</td>\n",
       "      <td>0</td>\n",
       "      <td>1</td>\n",
       "      <td>Yes</td>\n",
       "      <td>Private</td>\n",
       "      <td>Urban</td>\n",
       "      <td>228.69</td>\n",
       "      <td>36.6</td>\n",
       "      <td>formerly smoked</td>\n",
       "      <td>1</td>\n",
       "    </tr>\n",
       "    <tr>\n",
       "      <th>1</th>\n",
       "      <td>51676</td>\n",
       "      <td>Female</td>\n",
       "      <td>61.0</td>\n",
       "      <td>0</td>\n",
       "      <td>0</td>\n",
       "      <td>Yes</td>\n",
       "      <td>Self-employed</td>\n",
       "      <td>Rural</td>\n",
       "      <td>202.21</td>\n",
       "      <td>NaN</td>\n",
       "      <td>never smoked</td>\n",
       "      <td>1</td>\n",
       "    </tr>\n",
       "    <tr>\n",
       "      <th>2</th>\n",
       "      <td>31112</td>\n",
       "      <td>Male</td>\n",
       "      <td>80.0</td>\n",
       "      <td>0</td>\n",
       "      <td>1</td>\n",
       "      <td>Yes</td>\n",
       "      <td>Private</td>\n",
       "      <td>Rural</td>\n",
       "      <td>105.92</td>\n",
       "      <td>32.5</td>\n",
       "      <td>never smoked</td>\n",
       "      <td>1</td>\n",
       "    </tr>\n",
       "    <tr>\n",
       "      <th>3</th>\n",
       "      <td>60182</td>\n",
       "      <td>Female</td>\n",
       "      <td>49.0</td>\n",
       "      <td>0</td>\n",
       "      <td>0</td>\n",
       "      <td>Yes</td>\n",
       "      <td>Private</td>\n",
       "      <td>Urban</td>\n",
       "      <td>171.23</td>\n",
       "      <td>34.4</td>\n",
       "      <td>smokes</td>\n",
       "      <td>1</td>\n",
       "    </tr>\n",
       "    <tr>\n",
       "      <th>4</th>\n",
       "      <td>1665</td>\n",
       "      <td>Female</td>\n",
       "      <td>79.0</td>\n",
       "      <td>1</td>\n",
       "      <td>0</td>\n",
       "      <td>Yes</td>\n",
       "      <td>Self-employed</td>\n",
       "      <td>Rural</td>\n",
       "      <td>174.12</td>\n",
       "      <td>24.0</td>\n",
       "      <td>never smoked</td>\n",
       "      <td>1</td>\n",
       "    </tr>\n",
       "  </tbody>\n",
       "</table>\n",
       "</div>"
      ],
      "text/plain": [
       "      id  gender   age  hypertension  heart_disease ever_married  \\\n",
       "0   9046    Male  67.0             0              1          Yes   \n",
       "1  51676  Female  61.0             0              0          Yes   \n",
       "2  31112    Male  80.0             0              1          Yes   \n",
       "3  60182  Female  49.0             0              0          Yes   \n",
       "4   1665  Female  79.0             1              0          Yes   \n",
       "\n",
       "       work_type Residence_type  avg_glucose_level   bmi   smoking_status  \\\n",
       "0        Private          Urban             228.69  36.6  formerly smoked   \n",
       "1  Self-employed          Rural             202.21   NaN     never smoked   \n",
       "2        Private          Rural             105.92  32.5     never smoked   \n",
       "3        Private          Urban             171.23  34.4           smokes   \n",
       "4  Self-employed          Rural             174.12  24.0     never smoked   \n",
       "\n",
       "   stroke  \n",
       "0       1  \n",
       "1       1  \n",
       "2       1  \n",
       "3       1  \n",
       "4       1  "
      ]
     },
     "execution_count": 3,
     "metadata": {},
     "output_type": "execute_result"
    }
   ],
   "source": [
    "import warnings\n",
    "warnings.filterwarnings(\"ignore\", category=RuntimeWarning)\n",
    "\n",
    "df = pd.read_csv(\"/kaggle/input/healthcare-stroke-prediction-dataset/healthcare-dataset-stroke-data.csv\")\n",
    "df.head()"
   ]
  },
  {
   "cell_type": "code",
   "execution_count": 4,
   "id": "032a3595",
   "metadata": {
    "execution": {
     "iopub.execute_input": "2025-08-12T20:06:22.878542Z",
     "iopub.status.busy": "2025-08-12T20:06:22.878303Z",
     "iopub.status.idle": "2025-08-12T20:06:22.896970Z",
     "shell.execute_reply": "2025-08-12T20:06:22.896133Z"
    },
    "papermill": {
     "duration": 0.027683,
     "end_time": "2025-08-12T20:06:22.898086",
     "exception": false,
     "start_time": "2025-08-12T20:06:22.870403",
     "status": "completed"
    },
    "tags": []
   },
   "outputs": [
    {
     "name": "stdout",
     "output_type": "stream",
     "text": [
      "<class 'pandas.core.frame.DataFrame'>\n",
      "RangeIndex: 5110 entries, 0 to 5109\n",
      "Data columns (total 12 columns):\n",
      " #   Column             Non-Null Count  Dtype  \n",
      "---  ------             --------------  -----  \n",
      " 0   id                 5110 non-null   int64  \n",
      " 1   gender             5110 non-null   object \n",
      " 2   age                5110 non-null   float64\n",
      " 3   hypertension       5110 non-null   int64  \n",
      " 4   heart_disease      5110 non-null   int64  \n",
      " 5   ever_married       5110 non-null   object \n",
      " 6   work_type          5110 non-null   object \n",
      " 7   Residence_type     5110 non-null   object \n",
      " 8   avg_glucose_level  5110 non-null   float64\n",
      " 9   bmi                4909 non-null   float64\n",
      " 10  smoking_status     5110 non-null   object \n",
      " 11  stroke             5110 non-null   int64  \n",
      "dtypes: float64(3), int64(4), object(5)\n",
      "memory usage: 479.2+ KB\n"
     ]
    }
   ],
   "source": [
    "df.info()"
   ]
  },
  {
   "cell_type": "code",
   "execution_count": 5,
   "id": "a694178b",
   "metadata": {
    "execution": {
     "iopub.execute_input": "2025-08-12T20:06:22.913175Z",
     "iopub.status.busy": "2025-08-12T20:06:22.912974Z",
     "iopub.status.idle": "2025-08-12T20:06:22.936575Z",
     "shell.execute_reply": "2025-08-12T20:06:22.935981Z"
    },
    "papermill": {
     "duration": 0.032484,
     "end_time": "2025-08-12T20:06:22.937728",
     "exception": false,
     "start_time": "2025-08-12T20:06:22.905244",
     "status": "completed"
    },
    "tags": []
   },
   "outputs": [
    {
     "data": {
      "text/html": [
       "<div>\n",
       "<style scoped>\n",
       "    .dataframe tbody tr th:only-of-type {\n",
       "        vertical-align: middle;\n",
       "    }\n",
       "\n",
       "    .dataframe tbody tr th {\n",
       "        vertical-align: top;\n",
       "    }\n",
       "\n",
       "    .dataframe thead th {\n",
       "        text-align: right;\n",
       "    }\n",
       "</style>\n",
       "<table border=\"1\" class=\"dataframe\">\n",
       "  <thead>\n",
       "    <tr style=\"text-align: right;\">\n",
       "      <th></th>\n",
       "      <th>id</th>\n",
       "      <th>age</th>\n",
       "      <th>hypertension</th>\n",
       "      <th>heart_disease</th>\n",
       "      <th>avg_glucose_level</th>\n",
       "      <th>bmi</th>\n",
       "      <th>stroke</th>\n",
       "    </tr>\n",
       "  </thead>\n",
       "  <tbody>\n",
       "    <tr>\n",
       "      <th>count</th>\n",
       "      <td>5110.000000</td>\n",
       "      <td>5110.000000</td>\n",
       "      <td>5110.000000</td>\n",
       "      <td>5110.000000</td>\n",
       "      <td>5110.000000</td>\n",
       "      <td>4909.000000</td>\n",
       "      <td>5110.000000</td>\n",
       "    </tr>\n",
       "    <tr>\n",
       "      <th>mean</th>\n",
       "      <td>36517.829354</td>\n",
       "      <td>43.226614</td>\n",
       "      <td>0.097456</td>\n",
       "      <td>0.054012</td>\n",
       "      <td>106.147677</td>\n",
       "      <td>28.893237</td>\n",
       "      <td>0.048728</td>\n",
       "    </tr>\n",
       "    <tr>\n",
       "      <th>std</th>\n",
       "      <td>21161.721625</td>\n",
       "      <td>22.612647</td>\n",
       "      <td>0.296607</td>\n",
       "      <td>0.226063</td>\n",
       "      <td>45.283560</td>\n",
       "      <td>7.854067</td>\n",
       "      <td>0.215320</td>\n",
       "    </tr>\n",
       "    <tr>\n",
       "      <th>min</th>\n",
       "      <td>67.000000</td>\n",
       "      <td>0.080000</td>\n",
       "      <td>0.000000</td>\n",
       "      <td>0.000000</td>\n",
       "      <td>55.120000</td>\n",
       "      <td>10.300000</td>\n",
       "      <td>0.000000</td>\n",
       "    </tr>\n",
       "    <tr>\n",
       "      <th>25%</th>\n",
       "      <td>17741.250000</td>\n",
       "      <td>25.000000</td>\n",
       "      <td>0.000000</td>\n",
       "      <td>0.000000</td>\n",
       "      <td>77.245000</td>\n",
       "      <td>23.500000</td>\n",
       "      <td>0.000000</td>\n",
       "    </tr>\n",
       "    <tr>\n",
       "      <th>50%</th>\n",
       "      <td>36932.000000</td>\n",
       "      <td>45.000000</td>\n",
       "      <td>0.000000</td>\n",
       "      <td>0.000000</td>\n",
       "      <td>91.885000</td>\n",
       "      <td>28.100000</td>\n",
       "      <td>0.000000</td>\n",
       "    </tr>\n",
       "    <tr>\n",
       "      <th>75%</th>\n",
       "      <td>54682.000000</td>\n",
       "      <td>61.000000</td>\n",
       "      <td>0.000000</td>\n",
       "      <td>0.000000</td>\n",
       "      <td>114.090000</td>\n",
       "      <td>33.100000</td>\n",
       "      <td>0.000000</td>\n",
       "    </tr>\n",
       "    <tr>\n",
       "      <th>max</th>\n",
       "      <td>72940.000000</td>\n",
       "      <td>82.000000</td>\n",
       "      <td>1.000000</td>\n",
       "      <td>1.000000</td>\n",
       "      <td>271.740000</td>\n",
       "      <td>97.600000</td>\n",
       "      <td>1.000000</td>\n",
       "    </tr>\n",
       "  </tbody>\n",
       "</table>\n",
       "</div>"
      ],
      "text/plain": [
       "                 id          age  hypertension  heart_disease  \\\n",
       "count   5110.000000  5110.000000   5110.000000    5110.000000   \n",
       "mean   36517.829354    43.226614      0.097456       0.054012   \n",
       "std    21161.721625    22.612647      0.296607       0.226063   \n",
       "min       67.000000     0.080000      0.000000       0.000000   \n",
       "25%    17741.250000    25.000000      0.000000       0.000000   \n",
       "50%    36932.000000    45.000000      0.000000       0.000000   \n",
       "75%    54682.000000    61.000000      0.000000       0.000000   \n",
       "max    72940.000000    82.000000      1.000000       1.000000   \n",
       "\n",
       "       avg_glucose_level          bmi       stroke  \n",
       "count        5110.000000  4909.000000  5110.000000  \n",
       "mean          106.147677    28.893237     0.048728  \n",
       "std            45.283560     7.854067     0.215320  \n",
       "min            55.120000    10.300000     0.000000  \n",
       "25%            77.245000    23.500000     0.000000  \n",
       "50%            91.885000    28.100000     0.000000  \n",
       "75%           114.090000    33.100000     0.000000  \n",
       "max           271.740000    97.600000     1.000000  "
      ]
     },
     "execution_count": 5,
     "metadata": {},
     "output_type": "execute_result"
    }
   ],
   "source": [
    "df.describe()"
   ]
  },
  {
   "cell_type": "code",
   "execution_count": 6,
   "id": "eeb30086",
   "metadata": {
    "execution": {
     "iopub.execute_input": "2025-08-12T20:06:22.953043Z",
     "iopub.status.busy": "2025-08-12T20:06:22.952853Z",
     "iopub.status.idle": "2025-08-12T20:06:22.959289Z",
     "shell.execute_reply": "2025-08-12T20:06:22.958665Z"
    },
    "papermill": {
     "duration": 0.015278,
     "end_time": "2025-08-12T20:06:22.960327",
     "exception": false,
     "start_time": "2025-08-12T20:06:22.945049",
     "status": "completed"
    },
    "tags": []
   },
   "outputs": [
    {
     "data": {
      "text/plain": [
       "id                     0\n",
       "gender                 0\n",
       "age                    0\n",
       "hypertension           0\n",
       "heart_disease          0\n",
       "ever_married           0\n",
       "work_type              0\n",
       "Residence_type         0\n",
       "avg_glucose_level      0\n",
       "bmi                  201\n",
       "smoking_status         0\n",
       "stroke                 0\n",
       "dtype: int64"
      ]
     },
     "execution_count": 6,
     "metadata": {},
     "output_type": "execute_result"
    }
   ],
   "source": [
    "df.isnull().sum()"
   ]
  },
  {
   "cell_type": "code",
   "execution_count": 7,
   "id": "ac2d1cfb",
   "metadata": {
    "execution": {
     "iopub.execute_input": "2025-08-12T20:06:22.975552Z",
     "iopub.status.busy": "2025-08-12T20:06:22.975362Z",
     "iopub.status.idle": "2025-08-12T20:06:22.979785Z",
     "shell.execute_reply": "2025-08-12T20:06:22.979083Z"
    },
    "papermill": {
     "duration": 0.013225,
     "end_time": "2025-08-12T20:06:22.980903",
     "exception": false,
     "start_time": "2025-08-12T20:06:22.967678",
     "status": "completed"
    },
    "tags": []
   },
   "outputs": [],
   "source": [
    "df.fillna({'bmi': df['bmi'].median()}, inplace=True)"
   ]
  },
  {
   "cell_type": "code",
   "execution_count": 8,
   "id": "aed71835",
   "metadata": {
    "execution": {
     "iopub.execute_input": "2025-08-12T20:06:22.996552Z",
     "iopub.status.busy": "2025-08-12T20:06:22.996165Z",
     "iopub.status.idle": "2025-08-12T20:06:23.002655Z",
     "shell.execute_reply": "2025-08-12T20:06:23.001975Z"
    },
    "papermill": {
     "duration": 0.015182,
     "end_time": "2025-08-12T20:06:23.003725",
     "exception": false,
     "start_time": "2025-08-12T20:06:22.988543",
     "status": "completed"
    },
    "tags": []
   },
   "outputs": [
    {
     "data": {
      "text/plain": [
       "id                   0\n",
       "gender               0\n",
       "age                  0\n",
       "hypertension         0\n",
       "heart_disease        0\n",
       "ever_married         0\n",
       "work_type            0\n",
       "Residence_type       0\n",
       "avg_glucose_level    0\n",
       "bmi                  0\n",
       "smoking_status       0\n",
       "stroke               0\n",
       "dtype: int64"
      ]
     },
     "execution_count": 8,
     "metadata": {},
     "output_type": "execute_result"
    }
   ],
   "source": [
    "df.isnull().sum()"
   ]
  },
  {
   "cell_type": "code",
   "execution_count": 9,
   "id": "85aeb940",
   "metadata": {
    "execution": {
     "iopub.execute_input": "2025-08-12T20:06:23.019212Z",
     "iopub.status.busy": "2025-08-12T20:06:23.018828Z",
     "iopub.status.idle": "2025-08-12T20:06:23.025600Z",
     "shell.execute_reply": "2025-08-12T20:06:23.025048Z"
    },
    "papermill": {
     "duration": 0.015558,
     "end_time": "2025-08-12T20:06:23.026610",
     "exception": false,
     "start_time": "2025-08-12T20:06:23.011052",
     "status": "completed"
    },
    "tags": []
   },
   "outputs": [
    {
     "name": "stdout",
     "output_type": "stream",
     "text": [
      "id                   0\n",
      "age                  0\n",
      "hypertension         0\n",
      "heart_disease        0\n",
      "avg_glucose_level    0\n",
      "bmi                  0\n",
      "stroke               0\n",
      "dtype: int64\n"
     ]
    }
   ],
   "source": [
    "numerical_columns = df.select_dtypes(include=['float64', 'int64']).columns\n",
    "\n",
    "negative_values = (df[numerical_columns] < 0).sum()\n",
    "\n",
    "print(negative_values)"
   ]
  },
  {
   "cell_type": "code",
   "execution_count": 10,
   "id": "f039fd14",
   "metadata": {
    "execution": {
     "iopub.execute_input": "2025-08-12T20:06:23.042166Z",
     "iopub.status.busy": "2025-08-12T20:06:23.041976Z",
     "iopub.status.idle": "2025-08-12T20:06:23.053486Z",
     "shell.execute_reply": "2025-08-12T20:06:23.052787Z"
    },
    "papermill": {
     "duration": 0.020485,
     "end_time": "2025-08-12T20:06:23.054574",
     "exception": false,
     "start_time": "2025-08-12T20:06:23.034089",
     "status": "completed"
    },
    "tags": []
   },
   "outputs": [
    {
     "name": "stdout",
     "output_type": "stream",
     "text": [
      "id                     0\n",
      "age                    0\n",
      "hypertension         498\n",
      "heart_disease        276\n",
      "avg_glucose_level    627\n",
      "bmi                  126\n",
      "dtype: int64\n"
     ]
    }
   ],
   "source": [
    "# Identify numerical columns\n",
    "numerical_cols = df.select_dtypes(include=['float64', 'int64']).columns\n",
    "numerical_cols = numerical_cols.drop('stroke')\n",
    "\n",
    "# Calculate IQR for outlier removal\n",
    "# Calculate Q1, Q3, and IQR for each numerical column\n",
    "Q1 = df[numerical_cols].quantile(0.25)\n",
    "Q3 = df[numerical_cols].quantile(0.75)\n",
    "IQR = Q3 - Q1\n",
    "\n",
    "# Calculate the lower and upper bounds for each numerical column\n",
    "lower_bound = Q1 - 1.5 * IQR\n",
    "upper_bound = Q3 + 1.5 * IQR\n",
    "\n",
    "# Create a condition to detect outliers\n",
    "outliers_condition = ((df[numerical_cols] < lower_bound) | (df[numerical_cols] > upper_bound))\n",
    "\n",
    "# Get the number of outliers in each column\n",
    "outliers_count = outliers_condition.sum()\n",
    "\n",
    "# Display the count of outliers in each column\n",
    "print(outliers_count)\n"
   ]
  },
  {
   "cell_type": "code",
   "execution_count": 11,
   "id": "b81e4ae0",
   "metadata": {
    "execution": {
     "iopub.execute_input": "2025-08-12T20:06:23.071746Z",
     "iopub.status.busy": "2025-08-12T20:06:23.071241Z",
     "iopub.status.idle": "2025-08-12T20:06:23.084740Z",
     "shell.execute_reply": "2025-08-12T20:06:23.084064Z"
    },
    "papermill": {
     "duration": 0.022731,
     "end_time": "2025-08-12T20:06:23.085761",
     "exception": false,
     "start_time": "2025-08-12T20:06:23.063030",
     "status": "completed"
    },
    "tags": []
   },
   "outputs": [
    {
     "name": "stdout",
     "output_type": "stream",
     "text": [
      "Original shape: (5110, 12)\n",
      "Shape after removing outliers: (3926, 12)\n"
     ]
    },
    {
     "data": {
      "text/html": [
       "<div>\n",
       "<style scoped>\n",
       "    .dataframe tbody tr th:only-of-type {\n",
       "        vertical-align: middle;\n",
       "    }\n",
       "\n",
       "    .dataframe tbody tr th {\n",
       "        vertical-align: top;\n",
       "    }\n",
       "\n",
       "    .dataframe thead th {\n",
       "        text-align: right;\n",
       "    }\n",
       "</style>\n",
       "<table border=\"1\" class=\"dataframe\">\n",
       "  <thead>\n",
       "    <tr style=\"text-align: right;\">\n",
       "      <th></th>\n",
       "      <th>id</th>\n",
       "      <th>gender</th>\n",
       "      <th>age</th>\n",
       "      <th>hypertension</th>\n",
       "      <th>heart_disease</th>\n",
       "      <th>ever_married</th>\n",
       "      <th>work_type</th>\n",
       "      <th>Residence_type</th>\n",
       "      <th>avg_glucose_level</th>\n",
       "      <th>bmi</th>\n",
       "      <th>smoking_status</th>\n",
       "      <th>stroke</th>\n",
       "    </tr>\n",
       "  </thead>\n",
       "  <tbody>\n",
       "    <tr>\n",
       "      <th>7</th>\n",
       "      <td>10434</td>\n",
       "      <td>Female</td>\n",
       "      <td>69.0</td>\n",
       "      <td>0</td>\n",
       "      <td>0</td>\n",
       "      <td>No</td>\n",
       "      <td>Private</td>\n",
       "      <td>Urban</td>\n",
       "      <td>94.39</td>\n",
       "      <td>22.8</td>\n",
       "      <td>never smoked</td>\n",
       "      <td>1</td>\n",
       "    </tr>\n",
       "    <tr>\n",
       "      <th>8</th>\n",
       "      <td>27419</td>\n",
       "      <td>Female</td>\n",
       "      <td>59.0</td>\n",
       "      <td>0</td>\n",
       "      <td>0</td>\n",
       "      <td>Yes</td>\n",
       "      <td>Private</td>\n",
       "      <td>Rural</td>\n",
       "      <td>76.15</td>\n",
       "      <td>28.1</td>\n",
       "      <td>Unknown</td>\n",
       "      <td>1</td>\n",
       "    </tr>\n",
       "    <tr>\n",
       "      <th>9</th>\n",
       "      <td>60491</td>\n",
       "      <td>Female</td>\n",
       "      <td>78.0</td>\n",
       "      <td>0</td>\n",
       "      <td>0</td>\n",
       "      <td>Yes</td>\n",
       "      <td>Private</td>\n",
       "      <td>Urban</td>\n",
       "      <td>58.57</td>\n",
       "      <td>24.2</td>\n",
       "      <td>Unknown</td>\n",
       "      <td>1</td>\n",
       "    </tr>\n",
       "    <tr>\n",
       "      <th>12</th>\n",
       "      <td>12175</td>\n",
       "      <td>Female</td>\n",
       "      <td>54.0</td>\n",
       "      <td>0</td>\n",
       "      <td>0</td>\n",
       "      <td>Yes</td>\n",
       "      <td>Private</td>\n",
       "      <td>Urban</td>\n",
       "      <td>104.51</td>\n",
       "      <td>27.3</td>\n",
       "      <td>smokes</td>\n",
       "      <td>1</td>\n",
       "    </tr>\n",
       "    <tr>\n",
       "      <th>18</th>\n",
       "      <td>27458</td>\n",
       "      <td>Female</td>\n",
       "      <td>60.0</td>\n",
       "      <td>0</td>\n",
       "      <td>0</td>\n",
       "      <td>No</td>\n",
       "      <td>Private</td>\n",
       "      <td>Urban</td>\n",
       "      <td>89.22</td>\n",
       "      <td>37.8</td>\n",
       "      <td>never smoked</td>\n",
       "      <td>1</td>\n",
       "    </tr>\n",
       "  </tbody>\n",
       "</table>\n",
       "</div>"
      ],
      "text/plain": [
       "       id  gender   age  hypertension  heart_disease ever_married work_type  \\\n",
       "7   10434  Female  69.0             0              0           No   Private   \n",
       "8   27419  Female  59.0             0              0          Yes   Private   \n",
       "9   60491  Female  78.0             0              0          Yes   Private   \n",
       "12  12175  Female  54.0             0              0          Yes   Private   \n",
       "18  27458  Female  60.0             0              0           No   Private   \n",
       "\n",
       "   Residence_type  avg_glucose_level   bmi smoking_status  stroke  \n",
       "7           Urban              94.39  22.8   never smoked       1  \n",
       "8           Rural              76.15  28.1        Unknown       1  \n",
       "9           Urban              58.57  24.2        Unknown       1  \n",
       "12          Urban             104.51  27.3         smokes       1  \n",
       "18          Urban              89.22  37.8   never smoked       1  "
      ]
     },
     "execution_count": 11,
     "metadata": {},
     "output_type": "execute_result"
    }
   ],
   "source": [
    "df_no_outliers = df[~outliers_condition.any(axis=1)]\n",
    "\n",
    "print(f\"Original shape: {df.shape}\")\n",
    "print(f\"Shape after removing outliers: {df_no_outliers.shape}\")\n",
    "\n",
    "df_no_outliers.head()"
   ]
  },
  {
   "cell_type": "code",
   "execution_count": 12,
   "id": "8c5290f0",
   "metadata": {
    "execution": {
     "iopub.execute_input": "2025-08-12T20:06:23.103256Z",
     "iopub.status.busy": "2025-08-12T20:06:23.102704Z",
     "iopub.status.idle": "2025-08-12T20:06:23.105848Z",
     "shell.execute_reply": "2025-08-12T20:06:23.105180Z"
    },
    "papermill": {
     "duration": 0.013479,
     "end_time": "2025-08-12T20:06:23.106909",
     "exception": false,
     "start_time": "2025-08-12T20:06:23.093430",
     "status": "completed"
    },
    "tags": []
   },
   "outputs": [],
   "source": [
    "# Reassign the data to a new variable name\n",
    "df = df_no_outliers"
   ]
  },
  {
   "cell_type": "code",
   "execution_count": 13,
   "id": "0a5ff197",
   "metadata": {
    "execution": {
     "iopub.execute_input": "2025-08-12T20:06:23.122658Z",
     "iopub.status.busy": "2025-08-12T20:06:23.122440Z",
     "iopub.status.idle": "2025-08-12T20:06:24.589474Z",
     "shell.execute_reply": "2025-08-12T20:06:24.588765Z"
    },
    "papermill": {
     "duration": 1.476204,
     "end_time": "2025-08-12T20:06:24.590614",
     "exception": false,
     "start_time": "2025-08-12T20:06:23.114410",
     "status": "completed"
    },
    "tags": []
   },
   "outputs": [
    {
     "name": "stdout",
     "output_type": "stream",
     "text": [
      "Categorical variables:\n",
      "Index(['gender', 'ever_married', 'work_type', 'Residence_type',\n",
      "       'smoking_status'],\n",
      "      dtype='object')\n",
      "Numerical variables:\n",
      "['id', 'age', 'hypertension', 'heart_disease', 'avg_glucose_level', 'bmi', 'stroke']\n",
      "id\n",
      "Skew:  -0.03\n"
     ]
    },
    {
     "data": {
      "image/png": "[encoded data removed]",
      "text/plain": [
       "<Figure size 1500x400 with 2 Axes>"
      ]
     },
     "metadata": {},
     "output_type": "display_data"
    },
    {
     "name": "stdout",
     "output_type": "stream",
     "text": [
      "age\n",
      "Skew:  0.09\n"
     ]
    },
    {
     "data": {
      "image/png": "[encoded data removed]",
      "text/plain": [
       "<Figure size 1500x400 with 2 Axes>"
      ]
     },
     "metadata": {},
     "output_type": "display_data"
    },
    {
     "name": "stdout",
     "output_type": "stream",
     "text": [
      "hypertension\n",
      "Skew:  0.0\n"
     ]
    },
    {
     "data": {
      "image/png": "[encoded data removed]",
      "text/plain": [
       "<Figure size 1500x400 with 2 Axes>"
      ]
     },
     "metadata": {},
     "output_type": "display_data"
    },
    {
     "name": "stdout",
     "output_type": "stream",
     "text": [
      "heart_disease\n",
      "Skew:  0.0\n"
     ]
    },
    {
     "data": {
      "image/png": "[encoded data removed]",
      "text/plain": [
       "<Figure size 1500x400 with 2 Axes>"
      ]
     },
     "metadata": {},
     "output_type": "display_data"
    },
    {
     "name": "stdout",
     "output_type": "stream",
     "text": [
      "avg_glucose_level\n",
      "Skew:  0.86\n"
     ]
    },
    {
     "data": {
      "image/png": "[encoded data removed]",
      "text/plain": [
       "<Figure size 1500x400 with 2 Axes>"
      ]
     },
     "metadata": {},
     "output_type": "display_data"
    },
    {
     "name": "stdout",
     "output_type": "stream",
     "text": [
      "bmi\n",
      "Skew:  0.36\n"
     ]
    },
    {
     "data": {
      "image/png": "[encoded data removed]",
      "text/plain": [
       "<Figure size 1500x400 with 2 Axes>"
      ]
     },
     "metadata": {},
     "output_type": "display_data"
    },
    {
     "name": "stdout",
     "output_type": "stream",
     "text": [
      "stroke\n",
      "Skew:  5.67\n"
     ]
    },
    {
     "data": {
      "image/png": "[encoded data removed]",
      "text/plain": [
       "<Figure size 1500x400 with 2 Axes>"
      ]
     },
     "metadata": {},
     "output_type": "display_data"
    }
   ],
   "source": [
    "cat_cols=df.select_dtypes(include=['object']).columns\n",
    "num_cols=df.select_dtypes(include=np.number).columns.tolist()\n",
    "print('Categorical variables:')\n",
    "print(cat_cols)\n",
    "print('Numerical variables:')\n",
    "print(num_cols)\n",
    "\n",
    "for col in num_cols:\n",
    "    print(col)\n",
    "    print('Skew: ', round(df[col].skew(),2))\n",
    "    plt.figure(figsize = (15,4))\n",
    "    plt.subplot(1,2,1)\n",
    "    df[col].hist(grid=False)\n",
    "    plt.ylabel('count')\n",
    "    plt.subplot(1,2,2)\n",
    "    sns.boxplot(x=df[col])\n",
    "    plt.show()"
   ]
  },
  {
   "cell_type": "code",
   "execution_count": 14,
   "id": "1d9b2a98",
   "metadata": {
    "execution": {
     "iopub.execute_input": "2025-08-12T20:06:24.656069Z",
     "iopub.status.busy": "2025-08-12T20:06:24.655312Z",
     "iopub.status.idle": "2025-08-12T20:06:24.676802Z",
     "shell.execute_reply": "2025-08-12T20:06:24.676000Z"
    },
    "papermill": {
     "duration": 0.076311,
     "end_time": "2025-08-12T20:06:24.677874",
     "exception": false,
     "start_time": "2025-08-12T20:06:24.601563",
     "status": "completed"
    },
    "tags": []
   },
   "outputs": [
    {
     "name": "stdout",
     "output_type": "stream",
     "text": [
      "id                  -0.026766\n",
      "age                  0.087979\n",
      "hypertension         0.000000\n",
      "heart_disease        0.000000\n",
      "avg_glucose_level    0.856036\n",
      "bmi                  0.362704\n",
      "dtype: float64\n",
      "\n",
      "Skewness after log transformation:\n",
      "id                  -1.902448\n",
      "age                 -1.449416\n",
      "hypertension         0.000000\n",
      "heart_disease        0.000000\n",
      "avg_glucose_level    0.259357\n",
      "bmi                 -0.218424\n",
      "dtype: float64\n"
     ]
    }
   ],
   "source": [
    "skewness_after_outlier_removal = df[numerical_cols].skew()\n",
    "print(skewness_after_outlier_removal)\n",
    "\n",
    "# Apply log transformation to columns with positive skew (>0.5)\n",
    "for column in df[numerical_cols].select_dtypes(include=['float64', 'int64']).columns:\n",
    "    if skewness_after_outlier_removal[column] > 0.5:  # Positive skew\n",
    "        df[numerical_cols] = df[numerical_cols].apply(lambda x: np.log(x + 1))  # Log transformation (avoid log(0))\n",
    "\n",
    "# Recalculate skewness after log transformation\n",
    "skewness_after_log = df[numerical_cols].skew()\n",
    "print(\"\\nSkewness after log transformation:\")\n",
    "print(skewness_after_log)"
   ]
  },
  {
   "cell_type": "code",
   "execution_count": 15,
   "id": "f9b41f42",
   "metadata": {
    "execution": {
     "iopub.execute_input": "2025-08-12T20:06:24.699736Z",
     "iopub.status.busy": "2025-08-12T20:06:24.699370Z",
     "iopub.status.idle": "2025-08-12T20:06:24.715806Z",
     "shell.execute_reply": "2025-08-12T20:06:24.715225Z"
    },
    "papermill": {
     "duration": 0.028372,
     "end_time": "2025-08-12T20:06:24.716904",
     "exception": false,
     "start_time": "2025-08-12T20:06:24.688532",
     "status": "completed"
    },
    "tags": []
   },
   "outputs": [
    {
     "data": {
      "text/html": [
       "<div>\n",
       "<style scoped>\n",
       "    .dataframe tbody tr th:only-of-type {\n",
       "        vertical-align: middle;\n",
       "    }\n",
       "\n",
       "    .dataframe tbody tr th {\n",
       "        vertical-align: top;\n",
       "    }\n",
       "\n",
       "    .dataframe thead th {\n",
       "        text-align: right;\n",
       "    }\n",
       "</style>\n",
       "<table border=\"1\" class=\"dataframe\">\n",
       "  <thead>\n",
       "    <tr style=\"text-align: right;\">\n",
       "      <th></th>\n",
       "      <th>id</th>\n",
       "      <th>age</th>\n",
       "      <th>hypertension</th>\n",
       "      <th>heart_disease</th>\n",
       "      <th>avg_glucose_level</th>\n",
       "      <th>bmi</th>\n",
       "      <th>stroke</th>\n",
       "      <th>gender_Male</th>\n",
       "      <th>gender_Other</th>\n",
       "      <th>ever_married_Yes</th>\n",
       "      <th>work_type_Never_worked</th>\n",
       "      <th>work_type_Private</th>\n",
       "      <th>work_type_Self-employed</th>\n",
       "      <th>work_type_children</th>\n",
       "      <th>Residence_type_Urban</th>\n",
       "      <th>smoking_status_formerly smoked</th>\n",
       "      <th>smoking_status_never smoked</th>\n",
       "      <th>smoking_status_smokes</th>\n",
       "    </tr>\n",
       "  </thead>\n",
       "  <tbody>\n",
       "    <tr>\n",
       "      <th>7</th>\n",
       "      <td>9</td>\n",
       "      <td>4</td>\n",
       "      <td>0</td>\n",
       "      <td>0</td>\n",
       "      <td>4</td>\n",
       "      <td>3</td>\n",
       "      <td>1</td>\n",
       "      <td>0</td>\n",
       "      <td>0</td>\n",
       "      <td>0</td>\n",
       "      <td>0</td>\n",
       "      <td>1</td>\n",
       "      <td>0</td>\n",
       "      <td>0</td>\n",
       "      <td>1</td>\n",
       "      <td>0</td>\n",
       "      <td>1</td>\n",
       "      <td>0</td>\n",
       "    </tr>\n",
       "    <tr>\n",
       "      <th>8</th>\n",
       "      <td>10</td>\n",
       "      <td>4</td>\n",
       "      <td>0</td>\n",
       "      <td>0</td>\n",
       "      <td>4</td>\n",
       "      <td>3</td>\n",
       "      <td>1</td>\n",
       "      <td>0</td>\n",
       "      <td>0</td>\n",
       "      <td>1</td>\n",
       "      <td>0</td>\n",
       "      <td>1</td>\n",
       "      <td>0</td>\n",
       "      <td>0</td>\n",
       "      <td>0</td>\n",
       "      <td>0</td>\n",
       "      <td>0</td>\n",
       "      <td>0</td>\n",
       "    </tr>\n",
       "    <tr>\n",
       "      <th>9</th>\n",
       "      <td>11</td>\n",
       "      <td>4</td>\n",
       "      <td>0</td>\n",
       "      <td>0</td>\n",
       "      <td>4</td>\n",
       "      <td>3</td>\n",
       "      <td>1</td>\n",
       "      <td>0</td>\n",
       "      <td>0</td>\n",
       "      <td>1</td>\n",
       "      <td>0</td>\n",
       "      <td>1</td>\n",
       "      <td>0</td>\n",
       "      <td>0</td>\n",
       "      <td>1</td>\n",
       "      <td>0</td>\n",
       "      <td>0</td>\n",
       "      <td>0</td>\n",
       "    </tr>\n",
       "    <tr>\n",
       "      <th>12</th>\n",
       "      <td>9</td>\n",
       "      <td>4</td>\n",
       "      <td>0</td>\n",
       "      <td>0</td>\n",
       "      <td>4</td>\n",
       "      <td>3</td>\n",
       "      <td>1</td>\n",
       "      <td>0</td>\n",
       "      <td>0</td>\n",
       "      <td>1</td>\n",
       "      <td>0</td>\n",
       "      <td>1</td>\n",
       "      <td>0</td>\n",
       "      <td>0</td>\n",
       "      <td>1</td>\n",
       "      <td>0</td>\n",
       "      <td>0</td>\n",
       "      <td>1</td>\n",
       "    </tr>\n",
       "    <tr>\n",
       "      <th>18</th>\n",
       "      <td>10</td>\n",
       "      <td>4</td>\n",
       "      <td>0</td>\n",
       "      <td>0</td>\n",
       "      <td>4</td>\n",
       "      <td>3</td>\n",
       "      <td>1</td>\n",
       "      <td>0</td>\n",
       "      <td>0</td>\n",
       "      <td>0</td>\n",
       "      <td>0</td>\n",
       "      <td>1</td>\n",
       "      <td>0</td>\n",
       "      <td>0</td>\n",
       "      <td>1</td>\n",
       "      <td>0</td>\n",
       "      <td>1</td>\n",
       "      <td>0</td>\n",
       "    </tr>\n",
       "  </tbody>\n",
       "</table>\n",
       "</div>"
      ],
      "text/plain": [
       "    id  age  hypertension  heart_disease  avg_glucose_level  bmi  stroke  \\\n",
       "7    9    4             0              0                  4    3       1   \n",
       "8   10    4             0              0                  4    3       1   \n",
       "9   11    4             0              0                  4    3       1   \n",
       "12   9    4             0              0                  4    3       1   \n",
       "18  10    4             0              0                  4    3       1   \n",
       "\n",
       "    gender_Male  gender_Other  ever_married_Yes  work_type_Never_worked  \\\n",
       "7             0             0                 0                       0   \n",
       "8             0             0                 1                       0   \n",
       "9             0             0                 1                       0   \n",
       "12            0             0                 1                       0   \n",
       "18            0             0                 0                       0   \n",
       "\n",
       "    work_type_Private  work_type_Self-employed  work_type_children  \\\n",
       "7                   1                        0                   0   \n",
       "8                   1                        0                   0   \n",
       "9                   1                        0                   0   \n",
       "12                  1                        0                   0   \n",
       "18                  1                        0                   0   \n",
       "\n",
       "    Residence_type_Urban  smoking_status_formerly smoked  \\\n",
       "7                      1                               0   \n",
       "8                      0                               0   \n",
       "9                      1                               0   \n",
       "12                     1                               0   \n",
       "18                     1                               0   \n",
       "\n",
       "    smoking_status_never smoked  smoking_status_smokes  \n",
       "7                             1                      0  \n",
       "8                             0                      0  \n",
       "9                             0                      0  \n",
       "12                            0                      1  \n",
       "18                            1                      0  "
      ]
     },
     "execution_count": 15,
     "metadata": {},
     "output_type": "execute_result"
    }
   ],
   "source": [
    "df = pd.get_dummies(df, columns=['gender', 'ever_married', 'work_type', 'Residence_type', 'smoking_status'], drop_first=True)\n",
    "df = df.astype(int)\n",
    "df.head()"
   ]
  },
  {
   "cell_type": "code",
   "execution_count": 16,
   "id": "b92bc896",
   "metadata": {
    "execution": {
     "iopub.execute_input": "2025-08-12T20:06:24.738833Z",
     "iopub.status.busy": "2025-08-12T20:06:24.738448Z",
     "iopub.status.idle": "2025-08-12T20:06:24.741913Z",
     "shell.execute_reply": "2025-08-12T20:06:24.741169Z"
    },
    "papermill": {
     "duration": 0.015481,
     "end_time": "2025-08-12T20:06:24.742942",
     "exception": false,
     "start_time": "2025-08-12T20:06:24.727461",
     "status": "completed"
    },
    "tags": []
   },
   "outputs": [
    {
     "name": "stdout",
     "output_type": "stream",
     "text": [
      "Index(['id', 'age', 'hypertension', 'heart_disease', 'avg_glucose_level',\n",
      "       'bmi', 'stroke', 'gender_Male', 'gender_Other', 'ever_married_Yes',\n",
      "       'work_type_Never_worked', 'work_type_Private',\n",
      "       'work_type_Self-employed', 'work_type_children', 'Residence_type_Urban',\n",
      "       'smoking_status_formerly smoked', 'smoking_status_never smoked',\n",
      "       'smoking_status_smokes'],\n",
      "      dtype='object')\n"
     ]
    }
   ],
   "source": [
    "print(df.columns)"
   ]
  },
  {
   "cell_type": "code",
   "execution_count": 17,
   "id": "843e1323",
   "metadata": {
    "execution": {
     "iopub.execute_input": "2025-08-12T20:06:24.764673Z",
     "iopub.status.busy": "2025-08-12T20:06:24.764283Z",
     "iopub.status.idle": "2025-08-12T20:06:24.769728Z",
     "shell.execute_reply": "2025-08-12T20:06:24.769017Z"
    },
    "papermill": {
     "duration": 0.017408,
     "end_time": "2025-08-12T20:06:24.770851",
     "exception": false,
     "start_time": "2025-08-12T20:06:24.753443",
     "status": "completed"
    },
    "tags": []
   },
   "outputs": [
    {
     "name": "stdout",
     "output_type": "stream",
     "text": [
      "Class distribution in target variable 'stroke':\n",
      "stroke\n",
      "0    3814\n",
      "1     112\n",
      "Name: count, dtype: int64\n"
     ]
    }
   ],
   "source": [
    "# Check the distribution of the target variable 'stroke'\n",
    "print(\"Class distribution in target variable 'stroke':\")\n",
    "print(df['stroke'].value_counts())"
   ]
  },
  {
   "cell_type": "code",
   "execution_count": 18,
   "id": "2904ad38",
   "metadata": {
    "execution": {
     "iopub.execute_input": "2025-08-12T20:06:24.792833Z",
     "iopub.status.busy": "2025-08-12T20:06:24.792610Z",
     "iopub.status.idle": "2025-08-12T20:06:24.798111Z",
     "shell.execute_reply": "2025-08-12T20:06:24.797393Z"
    },
    "papermill": {
     "duration": 0.017621,
     "end_time": "2025-08-12T20:06:24.799250",
     "exception": false,
     "start_time": "2025-08-12T20:06:24.781629",
     "status": "completed"
    },
    "tags": []
   },
   "outputs": [
    {
     "name": "stdout",
     "output_type": "stream",
     "text": [
      "7     1\n",
      "8     1\n",
      "9     1\n",
      "12    1\n",
      "18    1\n",
      "Name: stroke, dtype: int64\n",
      "[1 0]\n"
     ]
    }
   ],
   "source": [
    "# Check the first few rows to confirm data integrity\n",
    "print(df['stroke'].head())\n",
    "\n",
    "# Check the unique values in the 'stroke' column to ensure both classes exist\n",
    "print(df['stroke'].unique())"
   ]
  },
  {
   "cell_type": "code",
   "execution_count": 19,
   "id": "d5988f3f",
   "metadata": {
    "execution": {
     "iopub.execute_input": "2025-08-12T20:06:24.821134Z",
     "iopub.status.busy": "2025-08-12T20:06:24.820955Z",
     "iopub.status.idle": "2025-08-12T20:06:25.436446Z",
     "shell.execute_reply": "2025-08-12T20:06:25.435651Z"
    },
    "papermill": {
     "duration": 0.627933,
     "end_time": "2025-08-12T20:06:25.437839",
     "exception": false,
     "start_time": "2025-08-12T20:06:24.809906",
     "status": "completed"
    },
    "tags": []
   },
   "outputs": [
    {
     "name": "stdout",
     "output_type": "stream",
     "text": [
      "Class distribution before SMOTE: Counter({0: 3814, 1: 112})\n",
      "\n",
      "Class distribution after SMOTE: Counter({1: 3814, 0: 3814})\n"
     ]
    }
   ],
   "source": [
    "from imblearn.over_sampling import SMOTE\n",
    "from collections import Counter\n",
    "\n",
    "# Separate features and target\n",
    "X = df.drop('stroke', axis=1)  # Features\n",
    "y = df['stroke']  # Target\n",
    "\n",
    "# Check the class distribution before applying SMOTE\n",
    "print(\"Class distribution before SMOTE:\", Counter(y))\n",
    "\n",
    "# Apply SMOTE to balance the dataset\n",
    "smote = SMOTE(sampling_strategy='auto', random_state=42)\n",
    "X_res, y_res = smote.fit_resample(X, y)\n",
    "\n",
    "# Check the class distribution after applying SMOTE\n",
    "print(\"\\nClass distribution after SMOTE:\", Counter(y_res))"
   ]
  },
  {
   "cell_type": "code",
   "execution_count": 20,
   "id": "c013b4d4",
   "metadata": {
    "execution": {
     "iopub.execute_input": "2025-08-12T20:06:25.462582Z",
     "iopub.status.busy": "2025-08-12T20:06:25.462353Z",
     "iopub.status.idle": "2025-08-12T20:06:25.495543Z",
     "shell.execute_reply": "2025-08-12T20:06:25.494811Z"
    },
    "papermill": {
     "duration": 0.046798,
     "end_time": "2025-08-12T20:06:25.496632",
     "exception": false,
     "start_time": "2025-08-12T20:06:25.449834",
     "status": "completed"
    },
    "tags": []
   },
   "outputs": [
    {
     "name": "stdout",
     "output_type": "stream",
     "text": [
      "[[-0.57358259  0.7734885   0.          0.         -0.12151761  0.24890125\n",
      "  -0.72035878 -0.01145047 -1.5677507  -0.05378153  0.85560608 -0.44100787\n",
      "  -0.31208342  1.00710442 -0.48157257  1.48857368 -0.37239417]\n",
      " [ 0.33264939  0.7734885   0.          0.         -0.12151761  0.24890125\n",
      "  -0.72035878 -0.01145047  0.63785652 -0.05378153  0.85560608 -0.44100787\n",
      "  -0.31208342 -0.9929457  -0.48157257 -0.67178401 -0.37239417]\n",
      " [ 1.23888137  0.7734885   0.          0.         -0.12151761  0.24890125\n",
      "  -0.72035878 -0.01145047  0.63785652 -0.05378153  0.85560608 -0.44100787\n",
      "  -0.31208342  1.00710442 -0.48157257 -0.67178401 -0.37239417]\n",
      " [-0.57358259  0.7734885   0.          0.         -0.12151761  0.24890125\n",
      "  -0.72035878 -0.01145047  0.63785652 -0.05378153  0.85560608 -0.44100787\n",
      "  -0.31208342  1.00710442 -0.48157257 -0.67178401  2.68532671]\n",
      " [ 0.33264939  0.7734885   0.          0.         -0.12151761  0.24890125\n",
      "  -0.72035878 -0.01145047 -1.5677507  -0.05378153  0.85560608 -0.44100787\n",
      "  -0.31208342  1.00710442 -0.48157257  1.48857368 -0.37239417]]\n"
     ]
    }
   ],
   "source": [
    "from sklearn.preprocessing import StandardScaler\n",
    "\n",
    "# Standardize the features\n",
    "scaler = StandardScaler()\n",
    "X_res_scaled = scaler.fit_transform(X_res)\n",
    "\n",
    "# Check the scaled features (first 5 rows)\n",
    "print(X_res_scaled[:5])"
   ]
  },
  {
   "cell_type": "code",
   "execution_count": 21,
   "id": "07f42414",
   "metadata": {
    "execution": {
     "iopub.execute_input": "2025-08-12T20:06:25.519213Z",
     "iopub.status.busy": "2025-08-12T20:06:25.518785Z",
     "iopub.status.idle": "2025-08-12T20:06:25.524740Z",
     "shell.execute_reply": "2025-08-12T20:06:25.523986Z"
    },
    "papermill": {
     "duration": 0.018352,
     "end_time": "2025-08-12T20:06:25.525887",
     "exception": false,
     "start_time": "2025-08-12T20:06:25.507535",
     "status": "completed"
    },
    "tags": []
   },
   "outputs": [
    {
     "name": "stdout",
     "output_type": "stream",
     "text": [
      "Training set size: (6102, 17)\n",
      "Test set size: (1526, 17)\n"
     ]
    }
   ],
   "source": [
    "from sklearn.model_selection import train_test_split\n",
    "\n",
    "# Split the data into training and testing sets (80% training, 20% testing)\n",
    "X_train, X_test, y_train, y_test = train_test_split(X_res_scaled, y_res, test_size=0.2, random_state=42)\n",
    "\n",
    "# Check the size of the split data\n",
    "print(f\"Training set size: {X_train.shape}\")\n",
    "print(f\"Test set size: {X_test.shape}\")"
   ]
  },
  {
   "cell_type": "markdown",
   "id": "7eb1f5f3",
   "metadata": {
    "papermill": {
     "duration": 0.01066,
     "end_time": "2025-08-12T20:06:25.547236",
     "exception": false,
     "start_time": "2025-08-12T20:06:25.536576",
     "status": "completed"
    },
    "tags": []
   },
   "source": [
    "# Model design and Implementation"
   ]
  },
  {
   "cell_type": "markdown",
   "id": "4d882fc3",
   "metadata": {
    "papermill": {
     "duration": 0.010329,
     "end_time": "2025-08-12T20:06:25.568251",
     "exception": false,
     "start_time": "2025-08-12T20:06:25.557922",
     "status": "completed"
    },
    "tags": []
   },
   "source": [
    "## 1.randomforestclassifier"
   ]
  },
  {
   "cell_type": "code",
   "execution_count": 22,
   "id": "c9123d76",
   "metadata": {
    "execution": {
     "iopub.execute_input": "2025-08-12T20:06:25.590500Z",
     "iopub.status.busy": "2025-08-12T20:06:25.590030Z",
     "iopub.status.idle": "2025-08-12T20:06:25.862303Z",
     "shell.execute_reply": "2025-08-12T20:06:25.861677Z"
    },
    "papermill": {
     "duration": 0.284766,
     "end_time": "2025-08-12T20:06:25.863419",
     "exception": false,
     "start_time": "2025-08-12T20:06:25.578653",
     "status": "completed"
    },
    "tags": []
   },
   "outputs": [
    {
     "data": {
      "text/html": [
       "<style>#sk-container-id-1 {color: black;background-color: white;}#sk-container-id-1 pre{padding: 0;}#sk-container-id-1 div.sk-toggleable {background-color: white;}#sk-container-id-1 label.sk-toggleable__label {cursor: pointer;display: block;width: 100%;margin-bottom: 0;padding: 0.3em;box-sizing: border-box;text-align: center;}#sk-container-id-1 label.sk-toggleable__label-arrow:before {content: \"▸\";float: left;margin-right: 0.25em;color: #696969;}#sk-container-id-1 label.sk-toggleable__label-arrow:hover:before {color: black;}#sk-container-id-1 div.sk-estimator:hover label.sk-toggleable__label-arrow:before {color: black;}#sk-container-id-1 div.sk-toggleable__content {max-height: 0;max-width: 0;overflow: hidden;text-align: left;background-color: #f0f8ff;}#sk-container-id-1 div.sk-toggleable__content pre {margin: 0.2em;color: black;border-radius: 0.25em;background-color: #f0f8ff;}#sk-container-id-1 input.sk-toggleable__control:checked~div.sk-toggleable__content {max-height: 200px;max-width: 100%;overflow: auto;}#sk-container-id-1 input.sk-toggleable__control:checked~label.sk-toggleable__label-arrow:before {content: \"▾\";}#sk-container-id-1 div.sk-estimator input.sk-toggleable__control:checked~label.sk-toggleable__label {background-color: #d4ebff;}#sk-container-id-1 div.sk-label input.sk-toggleable__control:checked~label.sk-toggleable__label {background-color: #d4ebff;}#sk-container-id-1 input.sk-hidden--visually {border: 0;clip: rect(1px 1px 1px 1px);clip: rect(1px, 1px, 1px, 1px);height: 1px;margin: -1px;overflow: hidden;padding: 0;position: absolute;width: 1px;}#sk-container-id-1 div.sk-estimator {font-family: monospace;background-color: #f0f8ff;border: 1px dotted black;border-radius: 0.25em;box-sizing: border-box;margin-bottom: 0.5em;}#sk-container-id-1 div.sk-estimator:hover {background-color: #d4ebff;}#sk-container-id-1 div.sk-parallel-item::after {content: \"\";width: 100%;border-bottom: 1px solid gray;flex-grow: 1;}#sk-container-id-1 div.sk-label:hover label.sk-toggleable__label {background-color: #d4ebff;}#sk-container-id-1 div.sk-serial::before {content: \"\";position: absolute;border-left: 1px solid gray;box-sizing: border-box;top: 0;bottom: 0;left: 50%;z-index: 0;}#sk-container-id-1 div.sk-serial {display: flex;flex-direction: column;align-items: center;background-color: white;padding-right: 0.2em;padding-left: 0.2em;position: relative;}#sk-container-id-1 div.sk-item {position: relative;z-index: 1;}#sk-container-id-1 div.sk-parallel {display: flex;align-items: stretch;justify-content: center;background-color: white;position: relative;}#sk-container-id-1 div.sk-item::before, #sk-container-id-1 div.sk-parallel-item::before {content: \"\";position: absolute;border-left: 1px solid gray;box-sizing: border-box;top: 0;bottom: 0;left: 50%;z-index: -1;}#sk-container-id-1 div.sk-parallel-item {display: flex;flex-direction: column;z-index: 1;position: relative;background-color: white;}#sk-container-id-1 div.sk-parallel-item:first-child::after {align-self: flex-end;width: 50%;}#sk-container-id-1 div.sk-parallel-item:last-child::after {align-self: flex-start;width: 50%;}#sk-container-id-1 div.sk-parallel-item:only-child::after {width: 0;}#sk-container-id-1 div.sk-dashed-wrapped {border: 1px dashed gray;margin: 0 0.4em 0.5em 0.4em;box-sizing: border-box;padding-bottom: 0.4em;background-color: white;}#sk-container-id-1 div.sk-label label {font-family: monospace;font-weight: bold;display: inline-block;line-height: 1.2em;}#sk-container-id-1 div.sk-label-container {text-align: center;}#sk-container-id-1 div.sk-container {/* jupyter's `normalize.less` sets `[hidden] { display: none; }` but bootstrap.min.css set `[hidden] { display: none !important; }` so we also need the `!important` here to be able to override the default hidden behavior on the sphinx rendered scikit-learn.org. See: https://github.com/scikit-learn/scikit-learn/issues/21755 */display: inline-block !important;position: relative;}#sk-container-id-1 div.sk-text-repr-fallback {display: none;}</style><div id=\"sk-container-id-1\" class=\"sk-top-container\"><div class=\"sk-text-repr-fallback\"><pre>RandomForestClassifier(random_state=42)</pre><b>In a Jupyter environment, please rerun this cell to show the HTML representation or trust the notebook. <br />On GitHub, the HTML representation is unable to render, please try loading this page with nbviewer.org.</b></div><div class=\"sk-container\" hidden><div class=\"sk-item\"><div class=\"sk-estimator sk-toggleable\"><input class=\"sk-toggleable__control sk-hidden--visually\" id=\"sk-estimator-id-1\" type=\"checkbox\" checked><label for=\"sk-estimator-id-1\" class=\"sk-toggleable__label sk-toggleable__label-arrow\">RandomForestClassifier</label><div class=\"sk-toggleable__content\"><pre>RandomForestClassifier(random_state=42)</pre></div></div></div></div></div>"
      ],
      "text/plain": [
       "RandomForestClassifier(random_state=42)"
      ]
     },
     "execution_count": 22,
     "metadata": {},
     "output_type": "execute_result"
    }
   ],
   "source": [
    "from sklearn.ensemble import RandomForestClassifier\n",
    "from sklearn.metrics import classification_report, accuracy_score, confusion_matrix\n",
    "\n",
    "model = RandomForestClassifier(random_state=42)\n",
    "\n",
    "model.fit(X_train, y_train)"
   ]
  },
  {
   "cell_type": "code",
   "execution_count": 23,
   "id": "4ad37447",
   "metadata": {
    "execution": {
     "iopub.execute_input": "2025-08-12T20:06:25.886441Z",
     "iopub.status.busy": "2025-08-12T20:06:25.886229Z",
     "iopub.status.idle": "2025-08-12T20:06:25.920611Z",
     "shell.execute_reply": "2025-08-12T20:06:25.919903Z"
    },
    "papermill": {
     "duration": 0.04679,
     "end_time": "2025-08-12T20:06:25.921620",
     "exception": false,
     "start_time": "2025-08-12T20:06:25.874830",
     "status": "completed"
    },
    "tags": []
   },
   "outputs": [
    {
     "name": "stdout",
     "output_type": "stream",
     "text": [
      "Accuracy: 0.8905635648754915\n",
      "\n",
      "Classification Report:\n",
      "              precision    recall  f1-score   support\n",
      "\n",
      "           0       0.95      0.83      0.88       766\n",
      "           1       0.85      0.96      0.90       760\n",
      "\n",
      "    accuracy                           0.89      1526\n",
      "   macro avg       0.90      0.89      0.89      1526\n",
      "weighted avg       0.90      0.89      0.89      1526\n",
      "\n",
      "Confusion Matrix:\n",
      " [[633 133]\n",
      " [ 34 726]]\n"
     ]
    }
   ],
   "source": [
    "y_pred = model.predict(X_test)\n",
    "\n",
    "# Evaluate the model\n",
    "print(\"Accuracy:\", accuracy_score(y_test, y_pred))\n",
    "print(\"\\nClassification Report:\")\n",
    "print(classification_report(y_test, y_pred))\n",
    "print(\"Confusion Matrix:\\n\", confusion_matrix(y_test, y_pred))"
   ]
  },
  {
   "cell_type": "markdown",
   "id": "302fa8a3",
   "metadata": {
    "papermill": {
     "duration": 0.010806,
     "end_time": "2025-08-12T20:06:25.943166",
     "exception": false,
     "start_time": "2025-08-12T20:06:25.932360",
     "status": "completed"
    },
    "tags": []
   },
   "source": [
    "## 2. Precptron"
   ]
  },
  {
   "cell_type": "code",
   "execution_count": 24,
   "id": "db6a2b78",
   "metadata": {
    "execution": {
     "iopub.execute_input": "2025-08-12T20:06:25.965501Z",
     "iopub.status.busy": "2025-08-12T20:06:25.965053Z",
     "iopub.status.idle": "2025-08-12T20:06:25.976218Z",
     "shell.execute_reply": "2025-08-12T20:06:25.975669Z"
    },
    "papermill": {
     "duration": 0.023415,
     "end_time": "2025-08-12T20:06:25.977216",
     "exception": false,
     "start_time": "2025-08-12T20:06:25.953801",
     "status": "completed"
    },
    "tags": []
   },
   "outputs": [
    {
     "data": {
      "text/html": [
       "<style>#sk-container-id-2 {color: black;background-color: white;}#sk-container-id-2 pre{padding: 0;}#sk-container-id-2 div.sk-toggleable {background-color: white;}#sk-container-id-2 label.sk-toggleable__label {cursor: pointer;display: block;width: 100%;margin-bottom: 0;padding: 0.3em;box-sizing: border-box;text-align: center;}#sk-container-id-2 label.sk-toggleable__label-arrow:before {content: \"▸\";float: left;margin-right: 0.25em;color: #696969;}#sk-container-id-2 label.sk-toggleable__label-arrow:hover:before {color: black;}#sk-container-id-2 div.sk-estimator:hover label.sk-toggleable__label-arrow:before {color: black;}#sk-container-id-2 div.sk-toggleable__content {max-height: 0;max-width: 0;overflow: hidden;text-align: left;background-color: #f0f8ff;}#sk-container-id-2 div.sk-toggleable__content pre {margin: 0.2em;color: black;border-radius: 0.25em;background-color: #f0f8ff;}#sk-container-id-2 input.sk-toggleable__control:checked~div.sk-toggleable__content {max-height: 200px;max-width: 100%;overflow: auto;}#sk-container-id-2 input.sk-toggleable__control:checked~label.sk-toggleable__label-arrow:before {content: \"▾\";}#sk-container-id-2 div.sk-estimator input.sk-toggleable__control:checked~label.sk-toggleable__label {background-color: #d4ebff;}#sk-container-id-2 div.sk-label input.sk-toggleable__control:checked~label.sk-toggleable__label {background-color: #d4ebff;}#sk-container-id-2 input.sk-hidden--visually {border: 0;clip: rect(1px 1px 1px 1px);clip: rect(1px, 1px, 1px, 1px);height: 1px;margin: -1px;overflow: hidden;padding: 0;position: absolute;width: 1px;}#sk-container-id-2 div.sk-estimator {font-family: monospace;background-color: #f0f8ff;border: 1px dotted black;border-radius: 0.25em;box-sizing: border-box;margin-bottom: 0.5em;}#sk-container-id-2 div.sk-estimator:hover {background-color: #d4ebff;}#sk-container-id-2 div.sk-parallel-item::after {content: \"\";width: 100%;border-bottom: 1px solid gray;flex-grow: 1;}#sk-container-id-2 div.sk-label:hover label.sk-toggleable__label {background-color: #d4ebff;}#sk-container-id-2 div.sk-serial::before {content: \"\";position: absolute;border-left: 1px solid gray;box-sizing: border-box;top: 0;bottom: 0;left: 50%;z-index: 0;}#sk-container-id-2 div.sk-serial {display: flex;flex-direction: column;align-items: center;background-color: white;padding-right: 0.2em;padding-left: 0.2em;position: relative;}#sk-container-id-2 div.sk-item {position: relative;z-index: 1;}#sk-container-id-2 div.sk-parallel {display: flex;align-items: stretch;justify-content: center;background-color: white;position: relative;}#sk-container-id-2 div.sk-item::before, #sk-container-id-2 div.sk-parallel-item::before {content: \"\";position: absolute;border-left: 1px solid gray;box-sizing: border-box;top: 0;bottom: 0;left: 50%;z-index: -1;}#sk-container-id-2 div.sk-parallel-item {display: flex;flex-direction: column;z-index: 1;position: relative;background-color: white;}#sk-container-id-2 div.sk-parallel-item:first-child::after {align-self: flex-end;width: 50%;}#sk-container-id-2 div.sk-parallel-item:last-child::after {align-self: flex-start;width: 50%;}#sk-container-id-2 div.sk-parallel-item:only-child::after {width: 0;}#sk-container-id-2 div.sk-dashed-wrapped {border: 1px dashed gray;margin: 0 0.4em 0.5em 0.4em;box-sizing: border-box;padding-bottom: 0.4em;background-color: white;}#sk-container-id-2 div.sk-label label {font-family: monospace;font-weight: bold;display: inline-block;line-height: 1.2em;}#sk-container-id-2 div.sk-label-container {text-align: center;}#sk-container-id-2 div.sk-container {/* jupyter's `normalize.less` sets `[hidden] { display: none; }` but bootstrap.min.css set `[hidden] { display: none !important; }` so we also need the `!important` here to be able to override the default hidden behavior on the sphinx rendered scikit-learn.org. See: https://github.com/scikit-learn/scikit-learn/issues/21755 */display: inline-block !important;position: relative;}#sk-container-id-2 div.sk-text-repr-fallback {display: none;}</style><div id=\"sk-container-id-2\" class=\"sk-top-container\"><div class=\"sk-text-repr-fallback\"><pre>Perceptron(random_state=42)</pre><b>In a Jupyter environment, please rerun this cell to show the HTML representation or trust the notebook. <br />On GitHub, the HTML representation is unable to render, please try loading this page with nbviewer.org.</b></div><div class=\"sk-container\" hidden><div class=\"sk-item\"><div class=\"sk-estimator sk-toggleable\"><input class=\"sk-toggleable__control sk-hidden--visually\" id=\"sk-estimator-id-2\" type=\"checkbox\" checked><label for=\"sk-estimator-id-2\" class=\"sk-toggleable__label sk-toggleable__label-arrow\">Perceptron</label><div class=\"sk-toggleable__content\"><pre>Perceptron(random_state=42)</pre></div></div></div></div></div>"
      ],
      "text/plain": [
       "Perceptron(random_state=42)"
      ]
     },
     "execution_count": 24,
     "metadata": {},
     "output_type": "execute_result"
    }
   ],
   "source": [
    "from sklearn.linear_model import Perceptron\n",
    "from sklearn.metrics import classification_report, accuracy_score\n",
    "\n",
    "model_perceptron = Perceptron(random_state=42)\n",
    "model_perceptron.fit(X_train, y_train)"
   ]
  },
  {
   "cell_type": "code",
   "execution_count": 25,
   "id": "7d3635fe",
   "metadata": {
    "execution": {
     "iopub.execute_input": "2025-08-12T20:06:25.999249Z",
     "iopub.status.busy": "2025-08-12T20:06:25.999077Z",
     "iopub.status.idle": "2025-08-12T20:06:26.012656Z",
     "shell.execute_reply": "2025-08-12T20:06:26.011935Z"
    },
    "papermill": {
     "duration": 0.025766,
     "end_time": "2025-08-12T20:06:26.013751",
     "exception": false,
     "start_time": "2025-08-12T20:06:25.987985",
     "status": "completed"
    },
    "tags": []
   },
   "outputs": [
    {
     "name": "stdout",
     "output_type": "stream",
     "text": [
      "Perceptron Model - Accuracy: 0.6579292267365662\n",
      "              precision    recall  f1-score   support\n",
      "\n",
      "           0       0.71      0.55      0.62       766\n",
      "           1       0.63      0.77      0.69       760\n",
      "\n",
      "    accuracy                           0.66      1526\n",
      "   macro avg       0.67      0.66      0.65      1526\n",
      "weighted avg       0.67      0.66      0.65      1526\n",
      "\n",
      "Confusion Matrix:\n",
      " [[419 347]\n",
      " [175 585]]\n"
     ]
    }
   ],
   "source": [
    "y_pred_perceptron = model_perceptron.predict(X_test)\n",
    "print(\"Perceptron Model - Accuracy:\", accuracy_score(y_test, y_pred_perceptron))\n",
    "print(classification_report(y_test, y_pred_perceptron))\n",
    "print(\"Confusion Matrix:\\n\", confusion_matrix(y_test,  y_pred_perceptron))"
   ]
  },
  {
   "cell_type": "markdown",
   "id": "06d901b6",
   "metadata": {
    "papermill": {
     "duration": 0.01075,
     "end_time": "2025-08-12T20:06:26.035300",
     "exception": false,
     "start_time": "2025-08-12T20:06:26.024550",
     "status": "completed"
    },
    "tags": []
   },
   "source": [
    "## 3. MLPClassifier"
   ]
  },
  {
   "cell_type": "code",
   "execution_count": 26,
   "id": "9805a916",
   "metadata": {
    "execution": {
     "iopub.execute_input": "2025-08-12T20:06:26.058386Z",
     "iopub.status.busy": "2025-08-12T20:06:26.057986Z",
     "iopub.status.idle": "2025-08-12T20:06:34.596441Z",
     "shell.execute_reply": "2025-08-12T20:06:34.595742Z"
    },
    "papermill": {
     "duration": 8.551545,
     "end_time": "2025-08-12T20:06:34.597569",
     "exception": false,
     "start_time": "2025-08-12T20:06:26.046024",
     "status": "completed"
    },
    "tags": []
   },
   "outputs": [
    {
     "data": {
      "text/html": [
       "<style>#sk-container-id-3 {color: black;background-color: white;}#sk-container-id-3 pre{padding: 0;}#sk-container-id-3 div.sk-toggleable {background-color: white;}#sk-container-id-3 label.sk-toggleable__label {cursor: pointer;display: block;width: 100%;margin-bottom: 0;padding: 0.3em;box-sizing: border-box;text-align: center;}#sk-container-id-3 label.sk-toggleable__label-arrow:before {content: \"▸\";float: left;margin-right: 0.25em;color: #696969;}#sk-container-id-3 label.sk-toggleable__label-arrow:hover:before {color: black;}#sk-container-id-3 div.sk-estimator:hover label.sk-toggleable__label-arrow:before {color: black;}#sk-container-id-3 div.sk-toggleable__content {max-height: 0;max-width: 0;overflow: hidden;text-align: left;background-color: #f0f8ff;}#sk-container-id-3 div.sk-toggleable__content pre {margin: 0.2em;color: black;border-radius: 0.25em;background-color: #f0f8ff;}#sk-container-id-3 input.sk-toggleable__control:checked~div.sk-toggleable__content {max-height: 200px;max-width: 100%;overflow: auto;}#sk-container-id-3 input.sk-toggleable__control:checked~label.sk-toggleable__label-arrow:before {content: \"▾\";}#sk-container-id-3 div.sk-estimator input.sk-toggleable__control:checked~label.sk-toggleable__label {background-color: #d4ebff;}#sk-container-id-3 div.sk-label input.sk-toggleable__control:checked~label.sk-toggleable__label {background-color: #d4ebff;}#sk-container-id-3 input.sk-hidden--visually {border: 0;clip: rect(1px 1px 1px 1px);clip: rect(1px, 1px, 1px, 1px);height: 1px;margin: -1px;overflow: hidden;padding: 0;position: absolute;width: 1px;}#sk-container-id-3 div.sk-estimator {font-family: monospace;background-color: #f0f8ff;border: 1px dotted black;border-radius: 0.25em;box-sizing: border-box;margin-bottom: 0.5em;}#sk-container-id-3 div.sk-estimator:hover {background-color: #d4ebff;}#sk-container-id-3 div.sk-parallel-item::after {content: \"\";width: 100%;border-bottom: 1px solid gray;flex-grow: 1;}#sk-container-id-3 div.sk-label:hover label.sk-toggleable__label {background-color: #d4ebff;}#sk-container-id-3 div.sk-serial::before {content: \"\";position: absolute;border-left: 1px solid gray;box-sizing: border-box;top: 0;bottom: 0;left: 50%;z-index: 0;}#sk-container-id-3 div.sk-serial {display: flex;flex-direction: column;align-items: center;background-color: white;padding-right: 0.2em;padding-left: 0.2em;position: relative;}#sk-container-id-3 div.sk-item {position: relative;z-index: 1;}#sk-container-id-3 div.sk-parallel {display: flex;align-items: stretch;justify-content: center;background-color: white;position: relative;}#sk-container-id-3 div.sk-item::before, #sk-container-id-3 div.sk-parallel-item::before {content: \"\";position: absolute;border-left: 1px solid gray;box-sizing: border-box;top: 0;bottom: 0;left: 50%;z-index: -1;}#sk-container-id-3 div.sk-parallel-item {display: flex;flex-direction: column;z-index: 1;position: relative;background-color: white;}#sk-container-id-3 div.sk-parallel-item:first-child::after {align-self: flex-end;width: 50%;}#sk-container-id-3 div.sk-parallel-item:last-child::after {align-self: flex-start;width: 50%;}#sk-container-id-3 div.sk-parallel-item:only-child::after {width: 0;}#sk-container-id-3 div.sk-dashed-wrapped {border: 1px dashed gray;margin: 0 0.4em 0.5em 0.4em;box-sizing: border-box;padding-bottom: 0.4em;background-color: white;}#sk-container-id-3 div.sk-label label {font-family: monospace;font-weight: bold;display: inline-block;line-height: 1.2em;}#sk-container-id-3 div.sk-label-container {text-align: center;}#sk-container-id-3 div.sk-container {/* jupyter's `normalize.less` sets `[hidden] { display: none; }` but bootstrap.min.css set `[hidden] { display: none !important; }` so we also need the `!important` here to be able to override the default hidden behavior on the sphinx rendered scikit-learn.org. See: https://github.com/scikit-learn/scikit-learn/issues/21755 */display: inline-block !important;position: relative;}#sk-container-id-3 div.sk-text-repr-fallback {display: none;}</style><div id=\"sk-container-id-3\" class=\"sk-top-container\"><div class=\"sk-text-repr-fallback\"><pre>MLPClassifier(max_iter=2000, random_state=42, tol=1e-05)</pre><b>In a Jupyter environment, please rerun this cell to show the HTML representation or trust the notebook. <br />On GitHub, the HTML representation is unable to render, please try loading this page with nbviewer.org.</b></div><div class=\"sk-container\" hidden><div class=\"sk-item\"><div class=\"sk-estimator sk-toggleable\"><input class=\"sk-toggleable__control sk-hidden--visually\" id=\"sk-estimator-id-3\" type=\"checkbox\" checked><label for=\"sk-estimator-id-3\" class=\"sk-toggleable__label sk-toggleable__label-arrow\">MLPClassifier</label><div class=\"sk-toggleable__content\"><pre>MLPClassifier(max_iter=2000, random_state=42, tol=1e-05)</pre></div></div></div></div></div>"
      ],
      "text/plain": [
       "MLPClassifier(max_iter=2000, random_state=42, tol=1e-05)"
      ]
     },
     "execution_count": 26,
     "metadata": {},
     "output_type": "execute_result"
    }
   ],
   "source": [
    "from sklearn.neural_network import MLPClassifier\n",
    "import warnings\n",
    "warnings.filterwarnings(\"ignore\", category=UserWarning, message=\".*ConvergenceWarning.*\")\n",
    "\n",
    "model_mlp = MLPClassifier(random_state=42, max_iter=2000, tol=1e-5)\n",
    "\n",
    "model_mlp.fit(X_train, y_train)"
   ]
  },
  {
   "cell_type": "code",
   "execution_count": 27,
   "id": "ec3f4287",
   "metadata": {
    "execution": {
     "iopub.execute_input": "2025-08-12T20:06:34.621095Z",
     "iopub.status.busy": "2025-08-12T20:06:34.620848Z",
     "iopub.status.idle": "2025-08-12T20:06:34.636134Z",
     "shell.execute_reply": "2025-08-12T20:06:34.635353Z"
    },
    "papermill": {
     "duration": 0.028063,
     "end_time": "2025-08-12T20:06:34.637354",
     "exception": false,
     "start_time": "2025-08-12T20:06:34.609291",
     "status": "completed"
    },
    "tags": []
   },
   "outputs": [
    {
     "name": "stdout",
     "output_type": "stream",
     "text": [
      "MLP Model - Accuracy: 0.8866317169069463\n",
      "              precision    recall  f1-score   support\n",
      "\n",
      "           0       0.93      0.84      0.88       766\n",
      "           1       0.85      0.94      0.89       760\n",
      "\n",
      "    accuracy                           0.89      1526\n",
      "   macro avg       0.89      0.89      0.89      1526\n",
      "weighted avg       0.89      0.89      0.89      1526\n",
      "\n",
      "Confusion Matrix:\n",
      " [[640 126]\n",
      " [ 47 713]]\n"
     ]
    }
   ],
   "source": [
    "y_pred_mlp = model_mlp.predict(X_test)\n",
    "print(\"MLP Model - Accuracy:\", accuracy_score(y_test, y_pred_mlp))\n",
    "print(classification_report(y_test, y_pred_mlp))\n",
    "print(\"Confusion Matrix:\\n\", confusion_matrix(y_test,  y_pred_mlp))"
   ]
  },
  {
   "cell_type": "markdown",
   "id": "7b7e9631",
   "metadata": {
    "papermill": {
     "duration": 0.010946,
     "end_time": "2025-08-12T20:06:34.659892",
     "exception": false,
     "start_time": "2025-08-12T20:06:34.648946",
     "status": "completed"
    },
    "tags": []
   },
   "source": [
    "## 4. SVM-RBF"
   ]
  },
  {
   "cell_type": "code",
   "execution_count": 28,
   "id": "07db92ef",
   "metadata": {
    "execution": {
     "iopub.execute_input": "2025-08-12T20:06:34.682654Z",
     "iopub.status.busy": "2025-08-12T20:06:34.682414Z",
     "iopub.status.idle": "2025-08-12T20:06:35.561470Z",
     "shell.execute_reply": "2025-08-12T20:06:35.560743Z"
    },
    "papermill": {
     "duration": 0.891818,
     "end_time": "2025-08-12T20:06:35.562704",
     "exception": false,
     "start_time": "2025-08-12T20:06:34.670886",
     "status": "completed"
    },
    "tags": []
   },
   "outputs": [
    {
     "data": {
      "text/html": [
       "<style>#sk-container-id-4 {color: black;background-color: white;}#sk-container-id-4 pre{padding: 0;}#sk-container-id-4 div.sk-toggleable {background-color: white;}#sk-container-id-4 label.sk-toggleable__label {cursor: pointer;display: block;width: 100%;margin-bottom: 0;padding: 0.3em;box-sizing: border-box;text-align: center;}#sk-container-id-4 label.sk-toggleable__label-arrow:before {content: \"▸\";float: left;margin-right: 0.25em;color: #696969;}#sk-container-id-4 label.sk-toggleable__label-arrow:hover:before {color: black;}#sk-container-id-4 div.sk-estimator:hover label.sk-toggleable__label-arrow:before {color: black;}#sk-container-id-4 div.sk-toggleable__content {max-height: 0;max-width: 0;overflow: hidden;text-align: left;background-color: #f0f8ff;}#sk-container-id-4 div.sk-toggleable__content pre {margin: 0.2em;color: black;border-radius: 0.25em;background-color: #f0f8ff;}#sk-container-id-4 input.sk-toggleable__control:checked~div.sk-toggleable__content {max-height: 200px;max-width: 100%;overflow: auto;}#sk-container-id-4 input.sk-toggleable__control:checked~label.sk-toggleable__label-arrow:before {content: \"▾\";}#sk-container-id-4 div.sk-estimator input.sk-toggleable__control:checked~label.sk-toggleable__label {background-color: #d4ebff;}#sk-container-id-4 div.sk-label input.sk-toggleable__control:checked~label.sk-toggleable__label {background-color: #d4ebff;}#sk-container-id-4 input.sk-hidden--visually {border: 0;clip: rect(1px 1px 1px 1px);clip: rect(1px, 1px, 1px, 1px);height: 1px;margin: -1px;overflow: hidden;padding: 0;position: absolute;width: 1px;}#sk-container-id-4 div.sk-estimator {font-family: monospace;background-color: #f0f8ff;border: 1px dotted black;border-radius: 0.25em;box-sizing: border-box;margin-bottom: 0.5em;}#sk-container-id-4 div.sk-estimator:hover {background-color: #d4ebff;}#sk-container-id-4 div.sk-parallel-item::after {content: \"\";width: 100%;border-bottom: 1px solid gray;flex-grow: 1;}#sk-container-id-4 div.sk-label:hover label.sk-toggleable__label {background-color: #d4ebff;}#sk-container-id-4 div.sk-serial::before {content: \"\";position: absolute;border-left: 1px solid gray;box-sizing: border-box;top: 0;bottom: 0;left: 50%;z-index: 0;}#sk-container-id-4 div.sk-serial {display: flex;flex-direction: column;align-items: center;background-color: white;padding-right: 0.2em;padding-left: 0.2em;position: relative;}#sk-container-id-4 div.sk-item {position: relative;z-index: 1;}#sk-container-id-4 div.sk-parallel {display: flex;align-items: stretch;justify-content: center;background-color: white;position: relative;}#sk-container-id-4 div.sk-item::before, #sk-container-id-4 div.sk-parallel-item::before {content: \"\";position: absolute;border-left: 1px solid gray;box-sizing: border-box;top: 0;bottom: 0;left: 50%;z-index: -1;}#sk-container-id-4 div.sk-parallel-item {display: flex;flex-direction: column;z-index: 1;position: relative;background-color: white;}#sk-container-id-4 div.sk-parallel-item:first-child::after {align-self: flex-end;width: 50%;}#sk-container-id-4 div.sk-parallel-item:last-child::after {align-self: flex-start;width: 50%;}#sk-container-id-4 div.sk-parallel-item:only-child::after {width: 0;}#sk-container-id-4 div.sk-dashed-wrapped {border: 1px dashed gray;margin: 0 0.4em 0.5em 0.4em;box-sizing: border-box;padding-bottom: 0.4em;background-color: white;}#sk-container-id-4 div.sk-label label {font-family: monospace;font-weight: bold;display: inline-block;line-height: 1.2em;}#sk-container-id-4 div.sk-label-container {text-align: center;}#sk-container-id-4 div.sk-container {/* jupyter's `normalize.less` sets `[hidden] { display: none; }` but bootstrap.min.css set `[hidden] { display: none !important; }` so we also need the `!important` here to be able to override the default hidden behavior on the sphinx rendered scikit-learn.org. See: https://github.com/scikit-learn/scikit-learn/issues/21755 */display: inline-block !important;position: relative;}#sk-container-id-4 div.sk-text-repr-fallback {display: none;}</style><div id=\"sk-container-id-4\" class=\"sk-top-container\"><div class=\"sk-text-repr-fallback\"><pre>SVC(random_state=42)</pre><b>In a Jupyter environment, please rerun this cell to show the HTML representation or trust the notebook. <br />On GitHub, the HTML representation is unable to render, please try loading this page with nbviewer.org.</b></div><div class=\"sk-container\" hidden><div class=\"sk-item\"><div class=\"sk-estimator sk-toggleable\"><input class=\"sk-toggleable__control sk-hidden--visually\" id=\"sk-estimator-id-4\" type=\"checkbox\" checked><label for=\"sk-estimator-id-4\" class=\"sk-toggleable__label sk-toggleable__label-arrow\">SVC</label><div class=\"sk-toggleable__content\"><pre>SVC(random_state=42)</pre></div></div></div></div></div>"
      ],
      "text/plain": [
       "SVC(random_state=42)"
      ]
     },
     "execution_count": 28,
     "metadata": {},
     "output_type": "execute_result"
    }
   ],
   "source": [
    "from sklearn.svm import SVC\n",
    "\n",
    "model_rbf = SVC(kernel='rbf', random_state=42)\n",
    "model_rbf.fit(X_train, y_train)"
   ]
  },
  {
   "cell_type": "code",
   "execution_count": 29,
   "id": "a32f5d5f",
   "metadata": {
    "execution": {
     "iopub.execute_input": "2025-08-12T20:06:35.587105Z",
     "iopub.status.busy": "2025-08-12T20:06:35.586846Z",
     "iopub.status.idle": "2025-08-12T20:06:35.783967Z",
     "shell.execute_reply": "2025-08-12T20:06:35.783059Z"
    },
    "papermill": {
     "duration": 0.210278,
     "end_time": "2025-08-12T20:06:35.785083",
     "exception": false,
     "start_time": "2025-08-12T20:06:35.574805",
     "status": "completed"
    },
    "tags": []
   },
   "outputs": [
    {
     "name": "stdout",
     "output_type": "stream",
     "text": [
      "SVM with RBF Kernel - Accuracy: 0.8348623853211009\n",
      "              precision    recall  f1-score   support\n",
      "\n",
      "           0       0.89      0.77      0.82       766\n",
      "           1       0.79      0.90      0.84       760\n",
      "\n",
      "    accuracy                           0.83      1526\n",
      "   macro avg       0.84      0.84      0.83      1526\n",
      "weighted avg       0.84      0.83      0.83      1526\n",
      "\n",
      "Confusion Matrix:\n",
      " [[589 177]\n",
      " [ 75 685]]\n"
     ]
    }
   ],
   "source": [
    "y_pred_rbf = model_rbf.predict(X_test)\n",
    "print(\"SVM with RBF Kernel - Accuracy:\", accuracy_score(y_test, y_pred_rbf))\n",
    "print(classification_report(y_test, y_pred_rbf))\n",
    "print(\"Confusion Matrix:\\n\", confusion_matrix(y_test, y_pred_rbf))"
   ]
  },
  {
   "cell_type": "markdown",
   "id": "3d420ebb",
   "metadata": {
    "papermill": {
     "duration": 0.012667,
     "end_time": "2025-08-12T20:06:35.810726",
     "exception": false,
     "start_time": "2025-08-12T20:06:35.798059",
     "status": "completed"
    },
    "tags": []
   },
   "source": [
    "## SOM"
   ]
  },
  {
   "cell_type": "code",
   "execution_count": 30,
   "id": "3bcb0690",
   "metadata": {
    "execution": {
     "iopub.execute_input": "2025-08-12T20:06:35.836901Z",
     "iopub.status.busy": "2025-08-12T20:06:35.836678Z",
     "iopub.status.idle": "2025-08-12T20:06:40.714495Z",
     "shell.execute_reply": "2025-08-12T20:06:40.713530Z"
    },
    "papermill": {
     "duration": 4.892258,
     "end_time": "2025-08-12T20:06:40.715699",
     "exception": false,
     "start_time": "2025-08-12T20:06:35.823441",
     "status": "completed"
    },
    "tags": []
   },
   "outputs": [
    {
     "name": "stdout",
     "output_type": "stream",
     "text": [
      "Collecting MiniSom\r\n",
      "  Downloading minisom-2.3.5.tar.gz (12 kB)\r\n",
      "  Preparing metadata (setup.py) ... \u001b[?25l\u001b[?25hdone\r\n",
      "Building wheels for collected packages: MiniSom\r\n",
      "  Building wheel for MiniSom (setup.py) ... \u001b[?25l\u001b[?25hdone\r\n",
      "  Created wheel for MiniSom: filename=MiniSom-2.3.5-py3-none-any.whl size=12031 sha256=5b3b93979baf160c4acbb87c5005bf53cb83d055058f8bb5360a1f6235fd9745\r\n",
      "  Stored in directory: /root/.cache/pip/wheels/19/db/95/5e53bc2b88a328217fdf9f2886cafbe86b0df274f4b601f572\r\n",
      "Successfully built MiniSom\r\n",
      "Installing collected packages: MiniSom\r\n",
      "Successfully installed MiniSom-2.3.5\r\n",
      "Note: you may need to restart the kernel to use updated packages.\n"
     ]
    }
   ],
   "source": [
    "pip install MiniSom"
   ]
  },
  {
   "cell_type": "code",
   "execution_count": 31,
   "id": "be7ecd79",
   "metadata": {
    "execution": {
     "iopub.execute_input": "2025-08-12T20:06:40.740342Z",
     "iopub.status.busy": "2025-08-12T20:06:40.740114Z",
     "iopub.status.idle": "2025-08-12T20:06:41.158120Z",
     "shell.execute_reply": "2025-08-12T20:06:41.157411Z"
    },
    "papermill": {
     "duration": 0.431703,
     "end_time": "2025-08-12T20:06:41.159483",
     "exception": false,
     "start_time": "2025-08-12T20:06:40.727780",
     "status": "completed"
    },
    "tags": []
   },
   "outputs": [
    {
     "data": {
      "image/png": "[encoded data removed]",
      "text/plain": [
       "<Figure size 1000x1000 with 2 Axes>"
      ]
     },
     "metadata": {},
     "output_type": "display_data"
    }
   ],
   "source": [
    "from minisom import MiniSom\n",
    "\n",
    "# Create and train the SOM\n",
    "# Create and train the SOM\n",
    "som = MiniSom(x=10, y=10, input_len=X_train.shape[1], sigma=1.0, learning_rate=0.5)\n",
    "som.train(X_train, 100)  # Train SOM with 100 iterations\n",
    "\n",
    "# Visualize the U-Matrix (Unified Distance Matrix) using matplotlib\n",
    "plt.figure(figsize=(10, 10))\n",
    "plt.title('U-Matrix of SOM', fontsize=15)\n",
    "\n",
    "# Plot the U-Matrix (distance between the units in the SOM grid)\n",
    "plt.imshow(som.distance_map().T, cmap='bone', origin='lower')\n",
    "plt.colorbar()\n",
    "plt.show()"
   ]
  },
  {
   "cell_type": "markdown",
   "id": "5a662638",
   "metadata": {
    "papermill": {
     "duration": 0.011659,
     "end_time": "2025-08-12T20:06:41.183839",
     "exception": false,
     "start_time": "2025-08-12T20:06:41.172180",
     "status": "completed"
    },
    "tags": []
   },
   "source": [
    "# Hyperparameter Tunning"
   ]
  },
  {
   "cell_type": "markdown",
   "id": "d9a15f60",
   "metadata": {
    "papermill": {
     "duration": 0.011537,
     "end_time": "2025-08-12T20:06:41.207741",
     "exception": false,
     "start_time": "2025-08-12T20:06:41.196204",
     "status": "completed"
    },
    "tags": []
   },
   "source": [
    "## 1.Randomforest"
   ]
  },
  {
   "cell_type": "code",
   "execution_count": 32,
   "id": "364a5679",
   "metadata": {
    "execution": {
     "iopub.execute_input": "2025-08-12T20:06:41.232095Z",
     "iopub.status.busy": "2025-08-12T20:06:41.231892Z",
     "iopub.status.idle": "2025-08-12T20:06:56.106281Z",
     "shell.execute_reply": "2025-08-12T20:06:56.105555Z"
    },
    "papermill": {
     "duration": 14.887934,
     "end_time": "2025-08-12T20:06:56.107399",
     "exception": false,
     "start_time": "2025-08-12T20:06:41.219465",
     "status": "completed"
    },
    "tags": []
   },
   "outputs": [
    {
     "data": {
      "text/html": [
       "<style>#sk-container-id-5 {color: black;background-color: white;}#sk-container-id-5 pre{padding: 0;}#sk-container-id-5 div.sk-toggleable {background-color: white;}#sk-container-id-5 label.sk-toggleable__label {cursor: pointer;display: block;width: 100%;margin-bottom: 0;padding: 0.3em;box-sizing: border-box;text-align: center;}#sk-container-id-5 label.sk-toggleable__label-arrow:before {content: \"▸\";float: left;margin-right: 0.25em;color: #696969;}#sk-container-id-5 label.sk-toggleable__label-arrow:hover:before {color: black;}#sk-container-id-5 div.sk-estimator:hover label.sk-toggleable__label-arrow:before {color: black;}#sk-container-id-5 div.sk-toggleable__content {max-height: 0;max-width: 0;overflow: hidden;text-align: left;background-color: #f0f8ff;}#sk-container-id-5 div.sk-toggleable__content pre {margin: 0.2em;color: black;border-radius: 0.25em;background-color: #f0f8ff;}#sk-container-id-5 input.sk-toggleable__control:checked~div.sk-toggleable__content {max-height: 200px;max-width: 100%;overflow: auto;}#sk-container-id-5 input.sk-toggleable__control:checked~label.sk-toggleable__label-arrow:before {content: \"▾\";}#sk-container-id-5 div.sk-estimator input.sk-toggleable__control:checked~label.sk-toggleable__label {background-color: #d4ebff;}#sk-container-id-5 div.sk-label input.sk-toggleable__control:checked~label.sk-toggleable__label {background-color: #d4ebff;}#sk-container-id-5 input.sk-hidden--visually {border: 0;clip: rect(1px 1px 1px 1px);clip: rect(1px, 1px, 1px, 1px);height: 1px;margin: -1px;overflow: hidden;padding: 0;position: absolute;width: 1px;}#sk-container-id-5 div.sk-estimator {font-family: monospace;background-color: #f0f8ff;border: 1px dotted black;border-radius: 0.25em;box-sizing: border-box;margin-bottom: 0.5em;}#sk-container-id-5 div.sk-estimator:hover {background-color: #d4ebff;}#sk-container-id-5 div.sk-parallel-item::after {content: \"\";width: 100%;border-bottom: 1px solid gray;flex-grow: 1;}#sk-container-id-5 div.sk-label:hover label.sk-toggleable__label {background-color: #d4ebff;}#sk-container-id-5 div.sk-serial::before {content: \"\";position: absolute;border-left: 1px solid gray;box-sizing: border-box;top: 0;bottom: 0;left: 50%;z-index: 0;}#sk-container-id-5 div.sk-serial {display: flex;flex-direction: column;align-items: center;background-color: white;padding-right: 0.2em;padding-left: 0.2em;position: relative;}#sk-container-id-5 div.sk-item {position: relative;z-index: 1;}#sk-container-id-5 div.sk-parallel {display: flex;align-items: stretch;justify-content: center;background-color: white;position: relative;}#sk-container-id-5 div.sk-item::before, #sk-container-id-5 div.sk-parallel-item::before {content: \"\";position: absolute;border-left: 1px solid gray;box-sizing: border-box;top: 0;bottom: 0;left: 50%;z-index: -1;}#sk-container-id-5 div.sk-parallel-item {display: flex;flex-direction: column;z-index: 1;position: relative;background-color: white;}#sk-container-id-5 div.sk-parallel-item:first-child::after {align-self: flex-end;width: 50%;}#sk-container-id-5 div.sk-parallel-item:last-child::after {align-self: flex-start;width: 50%;}#sk-container-id-5 div.sk-parallel-item:only-child::after {width: 0;}#sk-container-id-5 div.sk-dashed-wrapped {border: 1px dashed gray;margin: 0 0.4em 0.5em 0.4em;box-sizing: border-box;padding-bottom: 0.4em;background-color: white;}#sk-container-id-5 div.sk-label label {font-family: monospace;font-weight: bold;display: inline-block;line-height: 1.2em;}#sk-container-id-5 div.sk-label-container {text-align: center;}#sk-container-id-5 div.sk-container {/* jupyter's `normalize.less` sets `[hidden] { display: none; }` but bootstrap.min.css set `[hidden] { display: none !important; }` so we also need the `!important` here to be able to override the default hidden behavior on the sphinx rendered scikit-learn.org. See: https://github.com/scikit-learn/scikit-learn/issues/21755 */display: inline-block !important;position: relative;}#sk-container-id-5 div.sk-text-repr-fallback {display: none;}</style><div id=\"sk-container-id-5\" class=\"sk-top-container\"><div class=\"sk-text-repr-fallback\"><pre>RandomizedSearchCV(cv=3, estimator=RandomForestClassifier(random_state=42),\n",
       "                   param_distributions={&#x27;max_depth&#x27;: [10, 20, 30],\n",
       "                                        &#x27;min_samples_split&#x27;: [2, 5, 10],\n",
       "                                        &#x27;n_estimators&#x27;: [100, 200, 300]})</pre><b>In a Jupyter environment, please rerun this cell to show the HTML representation or trust the notebook. <br />On GitHub, the HTML representation is unable to render, please try loading this page with nbviewer.org.</b></div><div class=\"sk-container\" hidden><div class=\"sk-item sk-dashed-wrapped\"><div class=\"sk-label-container\"><div class=\"sk-label sk-toggleable\"><input class=\"sk-toggleable__control sk-hidden--visually\" id=\"sk-estimator-id-5\" type=\"checkbox\" ><label for=\"sk-estimator-id-5\" class=\"sk-toggleable__label sk-toggleable__label-arrow\">RandomizedSearchCV</label><div class=\"sk-toggleable__content\"><pre>RandomizedSearchCV(cv=3, estimator=RandomForestClassifier(random_state=42),\n",
       "                   param_distributions={&#x27;max_depth&#x27;: [10, 20, 30],\n",
       "                                        &#x27;min_samples_split&#x27;: [2, 5, 10],\n",
       "                                        &#x27;n_estimators&#x27;: [100, 200, 300]})</pre></div></div></div><div class=\"sk-parallel\"><div class=\"sk-parallel-item\"><div class=\"sk-item\"><div class=\"sk-label-container\"><div class=\"sk-label sk-toggleable\"><input class=\"sk-toggleable__control sk-hidden--visually\" id=\"sk-estimator-id-6\" type=\"checkbox\" ><label for=\"sk-estimator-id-6\" class=\"sk-toggleable__label sk-toggleable__label-arrow\">estimator: RandomForestClassifier</label><div class=\"sk-toggleable__content\"><pre>RandomForestClassifier(random_state=42)</pre></div></div></div><div class=\"sk-serial\"><div class=\"sk-item\"><div class=\"sk-estimator sk-toggleable\"><input class=\"sk-toggleable__control sk-hidden--visually\" id=\"sk-estimator-id-7\" type=\"checkbox\" ><label for=\"sk-estimator-id-7\" class=\"sk-toggleable__label sk-toggleable__label-arrow\">RandomForestClassifier</label><div class=\"sk-toggleable__content\"><pre>RandomForestClassifier(random_state=42)</pre></div></div></div></div></div></div></div></div></div></div>"
      ],
      "text/plain": [
       "RandomizedSearchCV(cv=3, estimator=RandomForestClassifier(random_state=42),\n",
       "                   param_distributions={'max_depth': [10, 20, 30],\n",
       "                                        'min_samples_split': [2, 5, 10],\n",
       "                                        'n_estimators': [100, 200, 300]})"
      ]
     },
     "execution_count": 32,
     "metadata": {},
     "output_type": "execute_result"
    }
   ],
   "source": [
    "from sklearn.model_selection import RandomizedSearchCV\n",
    "\n",
    "param_grid_rf = {\n",
    "    'n_estimators': [100, 200, 300],\n",
    "    'max_depth': [10, 20, 30],\n",
    "    'min_samples_split': [2, 5, 10]\n",
    "}\n",
    "\n",
    "rf_model = RandomForestClassifier(random_state=42)\n",
    "\n",
    "random_search_rf = RandomizedSearchCV(rf_model, param_distributions=param_grid_rf, n_iter=10, cv=3)\n",
    "random_search_rf.fit(X_train, y_train)"
   ]
  },
  {
   "cell_type": "code",
   "execution_count": 33,
   "id": "2cd6d616",
   "metadata": {
    "execution": {
     "iopub.execute_input": "2025-08-12T20:06:56.133561Z",
     "iopub.status.busy": "2025-08-12T20:06:56.133064Z",
     "iopub.status.idle": "2025-08-12T20:06:56.212284Z",
     "shell.execute_reply": "2025-08-12T20:06:56.211492Z"
    },
    "papermill": {
     "duration": 0.093111,
     "end_time": "2025-08-12T20:06:56.213533",
     "exception": false,
     "start_time": "2025-08-12T20:06:56.120422",
     "status": "completed"
    },
    "tags": []
   },
   "outputs": [
    {
     "name": "stdout",
     "output_type": "stream",
     "text": [
      "Best parameters for Random Forest: {'n_estimators': 200, 'min_samples_split': 2, 'max_depth': 20}\n",
      "Random Forest (Tuned) - Accuracy: 0.8905635648754915\n",
      "Random Forest (Tuned) - Classification Report:\n",
      "              precision    recall  f1-score   support\n",
      "\n",
      "           0       0.95      0.83      0.88       766\n",
      "           1       0.85      0.96      0.90       760\n",
      "\n",
      "    accuracy                           0.89      1526\n",
      "   macro avg       0.90      0.89      0.89      1526\n",
      "weighted avg       0.90      0.89      0.89      1526\n",
      "\n",
      "Random Formest(tunned)- Confusion Martix :  [[633 133]\n",
      " [ 34 726]]\n",
      "Random Forest (Default) - Accuracy: 0.8905635648754915\n"
     ]
    }
   ],
   "source": [
    "print(\"Best parameters for Random Forest:\", random_search_rf.best_params_)\n",
    "\n",
    "best_rf_model = random_search_rf.best_estimator_\n",
    "\n",
    "y_pred_rf = best_rf_model.predict(X_test)\n",
    "\n",
    "# Evaluate the tuned model\n",
    "print(\"Random Forest (Tuned) - Accuracy:\", accuracy_score(y_test, y_pred_rf))\n",
    "print(\"Random Forest (Tuned) - Classification Report:\")\n",
    "print(classification_report(y_test, y_pred_rf))\n",
    "print(\"Random Formest(tunned)- Confusion Martix : \",confusion_matrix(y_test, y_pred_rf))\n",
    "\n",
    "y_pred_rf_default = model.predict(X_test)\n",
    "print(\"Random Forest (Default) - Accuracy:\", accuracy_score(y_test, y_pred_rf_default))"
   ]
  },
  {
   "cell_type": "markdown",
   "id": "68cd420d",
   "metadata": {
    "papermill": {
     "duration": 0.011882,
     "end_time": "2025-08-12T20:06:56.237999",
     "exception": false,
     "start_time": "2025-08-12T20:06:56.226117",
     "status": "completed"
    },
    "tags": []
   },
   "source": [
    "## 2. Precptron"
   ]
  },
  {
   "cell_type": "code",
   "execution_count": 34,
   "id": "ba6b801b",
   "metadata": {
    "execution": {
     "iopub.execute_input": "2025-08-12T20:06:56.263403Z",
     "iopub.status.busy": "2025-08-12T20:06:56.263173Z",
     "iopub.status.idle": "2025-08-12T20:07:00.709837Z",
     "shell.execute_reply": "2025-08-12T20:07:00.709070Z"
    },
    "papermill": {
     "duration": 4.4612,
     "end_time": "2025-08-12T20:07:00.711064",
     "exception": false,
     "start_time": "2025-08-12T20:06:56.249864",
     "status": "completed"
    },
    "tags": []
   },
   "outputs": [
    {
     "data": {
      "text/html": [
       "<style>#sk-container-id-6 {color: black;background-color: white;}#sk-container-id-6 pre{padding: 0;}#sk-container-id-6 div.sk-toggleable {background-color: white;}#sk-container-id-6 label.sk-toggleable__label {cursor: pointer;display: block;width: 100%;margin-bottom: 0;padding: 0.3em;box-sizing: border-box;text-align: center;}#sk-container-id-6 label.sk-toggleable__label-arrow:before {content: \"▸\";float: left;margin-right: 0.25em;color: #696969;}#sk-container-id-6 label.sk-toggleable__label-arrow:hover:before {color: black;}#sk-container-id-6 div.sk-estimator:hover label.sk-toggleable__label-arrow:before {color: black;}#sk-container-id-6 div.sk-toggleable__content {max-height: 0;max-width: 0;overflow: hidden;text-align: left;background-color: #f0f8ff;}#sk-container-id-6 div.sk-toggleable__content pre {margin: 0.2em;color: black;border-radius: 0.25em;background-color: #f0f8ff;}#sk-container-id-6 input.sk-toggleable__control:checked~div.sk-toggleable__content {max-height: 200px;max-width: 100%;overflow: auto;}#sk-container-id-6 input.sk-toggleable__control:checked~label.sk-toggleable__label-arrow:before {content: \"▾\";}#sk-container-id-6 div.sk-estimator input.sk-toggleable__control:checked~label.sk-toggleable__label {background-color: #d4ebff;}#sk-container-id-6 div.sk-label input.sk-toggleable__control:checked~label.sk-toggleable__label {background-color: #d4ebff;}#sk-container-id-6 input.sk-hidden--visually {border: 0;clip: rect(1px 1px 1px 1px);clip: rect(1px, 1px, 1px, 1px);height: 1px;margin: -1px;overflow: hidden;padding: 0;position: absolute;width: 1px;}#sk-container-id-6 div.sk-estimator {font-family: monospace;background-color: #f0f8ff;border: 1px dotted black;border-radius: 0.25em;box-sizing: border-box;margin-bottom: 0.5em;}#sk-container-id-6 div.sk-estimator:hover {background-color: #d4ebff;}#sk-container-id-6 div.sk-parallel-item::after {content: \"\";width: 100%;border-bottom: 1px solid gray;flex-grow: 1;}#sk-container-id-6 div.sk-label:hover label.sk-toggleable__label {background-color: #d4ebff;}#sk-container-id-6 div.sk-serial::before {content: \"\";position: absolute;border-left: 1px solid gray;box-sizing: border-box;top: 0;bottom: 0;left: 50%;z-index: 0;}#sk-container-id-6 div.sk-serial {display: flex;flex-direction: column;align-items: center;background-color: white;padding-right: 0.2em;padding-left: 0.2em;position: relative;}#sk-container-id-6 div.sk-item {position: relative;z-index: 1;}#sk-container-id-6 div.sk-parallel {display: flex;align-items: stretch;justify-content: center;background-color: white;position: relative;}#sk-container-id-6 div.sk-item::before, #sk-container-id-6 div.sk-parallel-item::before {content: \"\";position: absolute;border-left: 1px solid gray;box-sizing: border-box;top: 0;bottom: 0;left: 50%;z-index: -1;}#sk-container-id-6 div.sk-parallel-item {display: flex;flex-direction: column;z-index: 1;position: relative;background-color: white;}#sk-container-id-6 div.sk-parallel-item:first-child::after {align-self: flex-end;width: 50%;}#sk-container-id-6 div.sk-parallel-item:last-child::after {align-self: flex-start;width: 50%;}#sk-container-id-6 div.sk-parallel-item:only-child::after {width: 0;}#sk-container-id-6 div.sk-dashed-wrapped {border: 1px dashed gray;margin: 0 0.4em 0.5em 0.4em;box-sizing: border-box;padding-bottom: 0.4em;background-color: white;}#sk-container-id-6 div.sk-label label {font-family: monospace;font-weight: bold;display: inline-block;line-height: 1.2em;}#sk-container-id-6 div.sk-label-container {text-align: center;}#sk-container-id-6 div.sk-container {/* jupyter's `normalize.less` sets `[hidden] { display: none; }` but bootstrap.min.css set `[hidden] { display: none !important; }` so we also need the `!important` here to be able to override the default hidden behavior on the sphinx rendered scikit-learn.org. See: https://github.com/scikit-learn/scikit-learn/issues/21755 */display: inline-block !important;position: relative;}#sk-container-id-6 div.sk-text-repr-fallback {display: none;}</style><div id=\"sk-container-id-6\" class=\"sk-top-container\"><div class=\"sk-text-repr-fallback\"><pre>GridSearchCV(cv=3, estimator=Perceptron(random_state=42), n_jobs=-1,\n",
       "             param_grid={&#x27;alpha&#x27;: [0.0001, 0.001, 0.01, 0.1],\n",
       "                         &#x27;eta0&#x27;: [0.001, 0.01, 0.1],\n",
       "                         &#x27;max_iter&#x27;: [100, 200, 500],\n",
       "                         &#x27;penalty&#x27;: [&#x27;l1&#x27;, &#x27;l2&#x27;, None],\n",
       "                         &#x27;tol&#x27;: [0.001, 0.0001, 1e-05]})</pre><b>In a Jupyter environment, please rerun this cell to show the HTML representation or trust the notebook. <br />On GitHub, the HTML representation is unable to render, please try loading this page with nbviewer.org.</b></div><div class=\"sk-container\" hidden><div class=\"sk-item sk-dashed-wrapped\"><div class=\"sk-label-container\"><div class=\"sk-label sk-toggleable\"><input class=\"sk-toggleable__control sk-hidden--visually\" id=\"sk-estimator-id-8\" type=\"checkbox\" ><label for=\"sk-estimator-id-8\" class=\"sk-toggleable__label sk-toggleable__label-arrow\">GridSearchCV</label><div class=\"sk-toggleable__content\"><pre>GridSearchCV(cv=3, estimator=Perceptron(random_state=42), n_jobs=-1,\n",
       "             param_grid={&#x27;alpha&#x27;: [0.0001, 0.001, 0.01, 0.1],\n",
       "                         &#x27;eta0&#x27;: [0.001, 0.01, 0.1],\n",
       "                         &#x27;max_iter&#x27;: [100, 200, 500],\n",
       "                         &#x27;penalty&#x27;: [&#x27;l1&#x27;, &#x27;l2&#x27;, None],\n",
       "                         &#x27;tol&#x27;: [0.001, 0.0001, 1e-05]})</pre></div></div></div><div class=\"sk-parallel\"><div class=\"sk-parallel-item\"><div class=\"sk-item\"><div class=\"sk-label-container\"><div class=\"sk-label sk-toggleable\"><input class=\"sk-toggleable__control sk-hidden--visually\" id=\"sk-estimator-id-9\" type=\"checkbox\" ><label for=\"sk-estimator-id-9\" class=\"sk-toggleable__label sk-toggleable__label-arrow\">estimator: Perceptron</label><div class=\"sk-toggleable__content\"><pre>Perceptron(random_state=42)</pre></div></div></div><div class=\"sk-serial\"><div class=\"sk-item\"><div class=\"sk-estimator sk-toggleable\"><input class=\"sk-toggleable__control sk-hidden--visually\" id=\"sk-estimator-id-10\" type=\"checkbox\" ><label for=\"sk-estimator-id-10\" class=\"sk-toggleable__label sk-toggleable__label-arrow\">Perceptron</label><div class=\"sk-toggleable__content\"><pre>Perceptron(random_state=42)</pre></div></div></div></div></div></div></div></div></div></div>"
      ],
      "text/plain": [
       "GridSearchCV(cv=3, estimator=Perceptron(random_state=42), n_jobs=-1,\n",
       "             param_grid={'alpha': [0.0001, 0.001, 0.01, 0.1],\n",
       "                         'eta0': [0.001, 0.01, 0.1],\n",
       "                         'max_iter': [100, 200, 500],\n",
       "                         'penalty': ['l1', 'l2', None],\n",
       "                         'tol': [0.001, 0.0001, 1e-05]})"
      ]
     },
     "execution_count": 34,
     "metadata": {},
     "output_type": "execute_result"
    }
   ],
   "source": [
    "from sklearn.model_selection import GridSearchCV\n",
    "\n",
    "param_grid_perceptron = {\n",
    "    'alpha': [0.0001, 0.001, 0.01, 0.1],  # Regularization strength\n",
    "    'max_iter': [100, 200, 500],  # Maximum number of iterations\n",
    "    'penalty': ['l1', 'l2', None],  # Type of regularization\n",
    "    'eta0': [0.001, 0.01, 0.1],  # Initial learning rate\n",
    "    'tol': [1e-3, 1e-4, 1e-5]  # Tolerance for stopping criterion\n",
    "}\n",
    "\n",
    "# Apply GridSearchCV for hyperparameter tuning\n",
    "grid_search_perceptron = GridSearchCV(estimator=model_perceptron, param_grid=param_grid_perceptron, cv=3, n_jobs=-1)\n",
    "\n",
    "# Fit the grid search model\n",
    "grid_search_perceptron.fit(X_train, y_train)"
   ]
  },
  {
   "cell_type": "code",
   "execution_count": 35,
   "id": "a4c1a31d",
   "metadata": {
    "execution": {
     "iopub.execute_input": "2025-08-12T20:07:00.737452Z",
     "iopub.status.busy": "2025-08-12T20:07:00.737005Z",
     "iopub.status.idle": "2025-08-12T20:07:00.751010Z",
     "shell.execute_reply": "2025-08-12T20:07:00.750210Z"
    },
    "papermill": {
     "duration": 0.028319,
     "end_time": "2025-08-12T20:07:00.752245",
     "exception": false,
     "start_time": "2025-08-12T20:07:00.723926",
     "status": "completed"
    },
    "tags": []
   },
   "outputs": [
    {
     "name": "stdout",
     "output_type": "stream",
     "text": [
      "Best Parameters for Perceptron: {'alpha': 0.01, 'eta0': 0.01, 'max_iter': 100, 'penalty': 'l1', 'tol': 0.0001}\n",
      "Perceptron (Tuned) - Accuracy: 0.7083879423328965\n",
      "Perceptron (Tuned) - Classification Report:\n",
      "              precision    recall  f1-score   support\n",
      "\n",
      "           0       0.66      0.88      0.75       766\n",
      "           1       0.82      0.53      0.65       760\n",
      "\n",
      "    accuracy                           0.71      1526\n",
      "   macro avg       0.74      0.71      0.70      1526\n",
      "weighted avg       0.74      0.71      0.70      1526\n",
      "\n",
      "Perceptron (Tuned) - Confusion Matrix:\n",
      "[[676  90]\n",
      " [355 405]]\n"
     ]
    }
   ],
   "source": [
    "# Get the best parameters from the grid search\n",
    "print(\"Best Parameters for Perceptron:\", grid_search_perceptron.best_params_)\n",
    "\n",
    "best_model_perceptron = grid_search_perceptron.best_estimator_\n",
    "y_pred_perceptron = best_model_perceptron.predict(X_test)\n",
    "\n",
    "print(\"Perceptron (Tuned) - Accuracy:\", accuracy_score(y_test, y_pred_perceptron))\n",
    "print(\"Perceptron (Tuned) - Classification Report:\")\n",
    "print(classification_report(y_test, y_pred_perceptron))\n",
    "print(\"Perceptron (Tuned) - Confusion Matrix:\")\n",
    "print(confusion_matrix(y_test, y_pred_perceptron))\n"
   ]
  },
  {
   "cell_type": "markdown",
   "id": "1f5333f5",
   "metadata": {
    "papermill": {
     "duration": 0.012145,
     "end_time": "2025-08-12T20:07:00.777090",
     "exception": false,
     "start_time": "2025-08-12T20:07:00.764945",
     "status": "completed"
    },
    "tags": []
   },
   "source": [
    "## 3. MLPclassiier"
   ]
  },
  {
   "cell_type": "code",
   "execution_count": 36,
   "id": "1b053eb8",
   "metadata": {
    "execution": {
     "iopub.execute_input": "2025-08-12T20:07:00.802979Z",
     "iopub.status.busy": "2025-08-12T20:07:00.802739Z",
     "iopub.status.idle": "2025-08-12T20:08:21.632274Z",
     "shell.execute_reply": "2025-08-12T20:08:21.631520Z"
    },
    "papermill": {
     "duration": 80.844131,
     "end_time": "2025-08-12T20:08:21.633492",
     "exception": false,
     "start_time": "2025-08-12T20:07:00.789361",
     "status": "completed"
    },
    "tags": []
   },
   "outputs": [
    {
     "name": "stderr",
     "output_type": "stream",
     "text": [
      "/usr/local/lib/python3.11/dist-packages/sklearn/neural_network/_multilayer_perceptron.py:686: ConvergenceWarning: Stochastic Optimizer: Maximum iterations (200) reached and the optimization hasn't converged yet.\n",
      "  warnings.warn(\n",
      "/usr/local/lib/python3.11/dist-packages/sklearn/neural_network/_multilayer_perceptron.py:686: ConvergenceWarning: Stochastic Optimizer: Maximum iterations (200) reached and the optimization hasn't converged yet.\n",
      "  warnings.warn(\n",
      "/usr/local/lib/python3.11/dist-packages/sklearn/neural_network/_multilayer_perceptron.py:686: ConvergenceWarning: Stochastic Optimizer: Maximum iterations (200) reached and the optimization hasn't converged yet.\n",
      "  warnings.warn(\n",
      "/usr/local/lib/python3.11/dist-packages/sklearn/neural_network/_multilayer_perceptron.py:686: ConvergenceWarning: Stochastic Optimizer: Maximum iterations (200) reached and the optimization hasn't converged yet.\n",
      "  warnings.warn(\n",
      "/usr/local/lib/python3.11/dist-packages/sklearn/neural_network/_multilayer_perceptron.py:686: ConvergenceWarning: Stochastic Optimizer: Maximum iterations (200) reached and the optimization hasn't converged yet.\n",
      "  warnings.warn(\n",
      "/usr/local/lib/python3.11/dist-packages/sklearn/neural_network/_multilayer_perceptron.py:686: ConvergenceWarning: Stochastic Optimizer: Maximum iterations (200) reached and the optimization hasn't converged yet.\n",
      "  warnings.warn(\n",
      "/usr/local/lib/python3.11/dist-packages/sklearn/neural_network/_multilayer_perceptron.py:686: ConvergenceWarning: Stochastic Optimizer: Maximum iterations (200) reached and the optimization hasn't converged yet.\n",
      "  warnings.warn(\n",
      "/usr/local/lib/python3.11/dist-packages/sklearn/neural_network/_multilayer_perceptron.py:686: ConvergenceWarning: Stochastic Optimizer: Maximum iterations (200) reached and the optimization hasn't converged yet.\n",
      "  warnings.warn(\n",
      "/usr/local/lib/python3.11/dist-packages/sklearn/neural_network/_multilayer_perceptron.py:686: ConvergenceWarning: Stochastic Optimizer: Maximum iterations (200) reached and the optimization hasn't converged yet.\n",
      "  warnings.warn(\n",
      "/usr/local/lib/python3.11/dist-packages/sklearn/neural_network/_multilayer_perceptron.py:686: ConvergenceWarning: Stochastic Optimizer: Maximum iterations (200) reached and the optimization hasn't converged yet.\n",
      "  warnings.warn(\n",
      "/usr/local/lib/python3.11/dist-packages/sklearn/neural_network/_multilayer_perceptron.py:686: ConvergenceWarning: Stochastic Optimizer: Maximum iterations (200) reached and the optimization hasn't converged yet.\n",
      "  warnings.warn(\n",
      "/usr/local/lib/python3.11/dist-packages/sklearn/neural_network/_multilayer_perceptron.py:686: ConvergenceWarning: Stochastic Optimizer: Maximum iterations (200) reached and the optimization hasn't converged yet.\n",
      "  warnings.warn(\n",
      "/usr/local/lib/python3.11/dist-packages/sklearn/neural_network/_multilayer_perceptron.py:686: ConvergenceWarning: Stochastic Optimizer: Maximum iterations (200) reached and the optimization hasn't converged yet.\n",
      "  warnings.warn(\n",
      "/usr/local/lib/python3.11/dist-packages/sklearn/neural_network/_multilayer_perceptron.py:686: ConvergenceWarning: Stochastic Optimizer: Maximum iterations (200) reached and the optimization hasn't converged yet.\n",
      "  warnings.warn(\n",
      "/usr/local/lib/python3.11/dist-packages/sklearn/neural_network/_multilayer_perceptron.py:686: ConvergenceWarning: Stochastic Optimizer: Maximum iterations (200) reached and the optimization hasn't converged yet.\n",
      "  warnings.warn(\n",
      "/usr/local/lib/python3.11/dist-packages/sklearn/neural_network/_multilayer_perceptron.py:686: ConvergenceWarning: Stochastic Optimizer: Maximum iterations (200) reached and the optimization hasn't converged yet.\n",
      "  warnings.warn(\n",
      "/usr/local/lib/python3.11/dist-packages/sklearn/neural_network/_multilayer_perceptron.py:686: ConvergenceWarning: Stochastic Optimizer: Maximum iterations (200) reached and the optimization hasn't converged yet.\n",
      "  warnings.warn(\n",
      "/usr/local/lib/python3.11/dist-packages/sklearn/neural_network/_multilayer_perceptron.py:686: ConvergenceWarning: Stochastic Optimizer: Maximum iterations (200) reached and the optimization hasn't converged yet.\n",
      "  warnings.warn(\n",
      "/usr/local/lib/python3.11/dist-packages/sklearn/neural_network/_multilayer_perceptron.py:686: ConvergenceWarning: Stochastic Optimizer: Maximum iterations (200) reached and the optimization hasn't converged yet.\n",
      "  warnings.warn(\n",
      "/usr/local/lib/python3.11/dist-packages/sklearn/neural_network/_multilayer_perceptron.py:686: ConvergenceWarning: Stochastic Optimizer: Maximum iterations (200) reached and the optimization hasn't converged yet.\n",
      "  warnings.warn(\n",
      "/usr/local/lib/python3.11/dist-packages/sklearn/neural_network/_multilayer_perceptron.py:686: ConvergenceWarning: Stochastic Optimizer: Maximum iterations (200) reached and the optimization hasn't converged yet.\n",
      "  warnings.warn(\n",
      "/usr/local/lib/python3.11/dist-packages/sklearn/neural_network/_multilayer_perceptron.py:686: ConvergenceWarning: Stochastic Optimizer: Maximum iterations (200) reached and the optimization hasn't converged yet.\n",
      "  warnings.warn(\n",
      "/usr/local/lib/python3.11/dist-packages/sklearn/neural_network/_multilayer_perceptron.py:686: ConvergenceWarning: Stochastic Optimizer: Maximum iterations (200) reached and the optimization hasn't converged yet.\n",
      "  warnings.warn(\n",
      "/usr/local/lib/python3.11/dist-packages/sklearn/neural_network/_multilayer_perceptron.py:686: ConvergenceWarning: Stochastic Optimizer: Maximum iterations (200) reached and the optimization hasn't converged yet.\n",
      "  warnings.warn(\n",
      "/usr/local/lib/python3.11/dist-packages/sklearn/neural_network/_multilayer_perceptron.py:686: ConvergenceWarning: Stochastic Optimizer: Maximum iterations (200) reached and the optimization hasn't converged yet.\n",
      "  warnings.warn(\n",
      "/usr/local/lib/python3.11/dist-packages/sklearn/neural_network/_multilayer_perceptron.py:686: ConvergenceWarning: Stochastic Optimizer: Maximum iterations (200) reached and the optimization hasn't converged yet.\n",
      "  warnings.warn(\n",
      "/usr/local/lib/python3.11/dist-packages/sklearn/neural_network/_multilayer_perceptron.py:686: ConvergenceWarning: Stochastic Optimizer: Maximum iterations (200) reached and the optimization hasn't converged yet.\n",
      "  warnings.warn(\n",
      "/usr/local/lib/python3.11/dist-packages/sklearn/neural_network/_multilayer_perceptron.py:686: ConvergenceWarning: Stochastic Optimizer: Maximum iterations (200) reached and the optimization hasn't converged yet.\n",
      "  warnings.warn(\n"
     ]
    },
    {
     "data": {
      "text/html": [
       "<style>#sk-container-id-7 {color: black;background-color: white;}#sk-container-id-7 pre{padding: 0;}#sk-container-id-7 div.sk-toggleable {background-color: white;}#sk-container-id-7 label.sk-toggleable__label {cursor: pointer;display: block;width: 100%;margin-bottom: 0;padding: 0.3em;box-sizing: border-box;text-align: center;}#sk-container-id-7 label.sk-toggleable__label-arrow:before {content: \"▸\";float: left;margin-right: 0.25em;color: #696969;}#sk-container-id-7 label.sk-toggleable__label-arrow:hover:before {color: black;}#sk-container-id-7 div.sk-estimator:hover label.sk-toggleable__label-arrow:before {color: black;}#sk-container-id-7 div.sk-toggleable__content {max-height: 0;max-width: 0;overflow: hidden;text-align: left;background-color: #f0f8ff;}#sk-container-id-7 div.sk-toggleable__content pre {margin: 0.2em;color: black;border-radius: 0.25em;background-color: #f0f8ff;}#sk-container-id-7 input.sk-toggleable__control:checked~div.sk-toggleable__content {max-height: 200px;max-width: 100%;overflow: auto;}#sk-container-id-7 input.sk-toggleable__control:checked~label.sk-toggleable__label-arrow:before {content: \"▾\";}#sk-container-id-7 div.sk-estimator input.sk-toggleable__control:checked~label.sk-toggleable__label {background-color: #d4ebff;}#sk-container-id-7 div.sk-label input.sk-toggleable__control:checked~label.sk-toggleable__label {background-color: #d4ebff;}#sk-container-id-7 input.sk-hidden--visually {border: 0;clip: rect(1px 1px 1px 1px);clip: rect(1px, 1px, 1px, 1px);height: 1px;margin: -1px;overflow: hidden;padding: 0;position: absolute;width: 1px;}#sk-container-id-7 div.sk-estimator {font-family: monospace;background-color: #f0f8ff;border: 1px dotted black;border-radius: 0.25em;box-sizing: border-box;margin-bottom: 0.5em;}#sk-container-id-7 div.sk-estimator:hover {background-color: #d4ebff;}#sk-container-id-7 div.sk-parallel-item::after {content: \"\";width: 100%;border-bottom: 1px solid gray;flex-grow: 1;}#sk-container-id-7 div.sk-label:hover label.sk-toggleable__label {background-color: #d4ebff;}#sk-container-id-7 div.sk-serial::before {content: \"\";position: absolute;border-left: 1px solid gray;box-sizing: border-box;top: 0;bottom: 0;left: 50%;z-index: 0;}#sk-container-id-7 div.sk-serial {display: flex;flex-direction: column;align-items: center;background-color: white;padding-right: 0.2em;padding-left: 0.2em;position: relative;}#sk-container-id-7 div.sk-item {position: relative;z-index: 1;}#sk-container-id-7 div.sk-parallel {display: flex;align-items: stretch;justify-content: center;background-color: white;position: relative;}#sk-container-id-7 div.sk-item::before, #sk-container-id-7 div.sk-parallel-item::before {content: \"\";position: absolute;border-left: 1px solid gray;box-sizing: border-box;top: 0;bottom: 0;left: 50%;z-index: -1;}#sk-container-id-7 div.sk-parallel-item {display: flex;flex-direction: column;z-index: 1;position: relative;background-color: white;}#sk-container-id-7 div.sk-parallel-item:first-child::after {align-self: flex-end;width: 50%;}#sk-container-id-7 div.sk-parallel-item:last-child::after {align-self: flex-start;width: 50%;}#sk-container-id-7 div.sk-parallel-item:only-child::after {width: 0;}#sk-container-id-7 div.sk-dashed-wrapped {border: 1px dashed gray;margin: 0 0.4em 0.5em 0.4em;box-sizing: border-box;padding-bottom: 0.4em;background-color: white;}#sk-container-id-7 div.sk-label label {font-family: monospace;font-weight: bold;display: inline-block;line-height: 1.2em;}#sk-container-id-7 div.sk-label-container {text-align: center;}#sk-container-id-7 div.sk-container {/* jupyter's `normalize.less` sets `[hidden] { display: none; }` but bootstrap.min.css set `[hidden] { display: none !important; }` so we also need the `!important` here to be able to override the default hidden behavior on the sphinx rendered scikit-learn.org. See: https://github.com/scikit-learn/scikit-learn/issues/21755 */display: inline-block !important;position: relative;}#sk-container-id-7 div.sk-text-repr-fallback {display: none;}</style><div id=\"sk-container-id-7\" class=\"sk-top-container\"><div class=\"sk-text-repr-fallback\"><pre>RandomizedSearchCV(cv=3, estimator=MLPClassifier(random_state=42),\n",
       "                   param_distributions={&#x27;activation&#x27;: [&#x27;tanh&#x27;, &#x27;relu&#x27;],\n",
       "                                        &#x27;hidden_layer_sizes&#x27;: [(50,), (100,),\n",
       "                                                               (150,)],\n",
       "                                        &#x27;learning_rate&#x27;: [&#x27;constant&#x27;,\n",
       "                                                          &#x27;adaptive&#x27;],\n",
       "                                        &#x27;solver&#x27;: [&#x27;adam&#x27;, &#x27;sgd&#x27;]})</pre><b>In a Jupyter environment, please rerun this cell to show the HTML representation or trust the notebook. <br />On GitHub, the HTML representation is unable to render, please try loading this page with nbviewer.org.</b></div><div class=\"sk-container\" hidden><div class=\"sk-item sk-dashed-wrapped\"><div class=\"sk-label-container\"><div class=\"sk-label sk-toggleable\"><input class=\"sk-toggleable__control sk-hidden--visually\" id=\"sk-estimator-id-11\" type=\"checkbox\" ><label for=\"sk-estimator-id-11\" class=\"sk-toggleable__label sk-toggleable__label-arrow\">RandomizedSearchCV</label><div class=\"sk-toggleable__content\"><pre>RandomizedSearchCV(cv=3, estimator=MLPClassifier(random_state=42),\n",
       "                   param_distributions={&#x27;activation&#x27;: [&#x27;tanh&#x27;, &#x27;relu&#x27;],\n",
       "                                        &#x27;hidden_layer_sizes&#x27;: [(50,), (100,),\n",
       "                                                               (150,)],\n",
       "                                        &#x27;learning_rate&#x27;: [&#x27;constant&#x27;,\n",
       "                                                          &#x27;adaptive&#x27;],\n",
       "                                        &#x27;solver&#x27;: [&#x27;adam&#x27;, &#x27;sgd&#x27;]})</pre></div></div></div><div class=\"sk-parallel\"><div class=\"sk-parallel-item\"><div class=\"sk-item\"><div class=\"sk-label-container\"><div class=\"sk-label sk-toggleable\"><input class=\"sk-toggleable__control sk-hidden--visually\" id=\"sk-estimator-id-12\" type=\"checkbox\" ><label for=\"sk-estimator-id-12\" class=\"sk-toggleable__label sk-toggleable__label-arrow\">estimator: MLPClassifier</label><div class=\"sk-toggleable__content\"><pre>MLPClassifier(random_state=42)</pre></div></div></div><div class=\"sk-serial\"><div class=\"sk-item\"><div class=\"sk-estimator sk-toggleable\"><input class=\"sk-toggleable__control sk-hidden--visually\" id=\"sk-estimator-id-13\" type=\"checkbox\" ><label for=\"sk-estimator-id-13\" class=\"sk-toggleable__label sk-toggleable__label-arrow\">MLPClassifier</label><div class=\"sk-toggleable__content\"><pre>MLPClassifier(random_state=42)</pre></div></div></div></div></div></div></div></div></div></div>"
      ],
      "text/plain": [
       "RandomizedSearchCV(cv=3, estimator=MLPClassifier(random_state=42),\n",
       "                   param_distributions={'activation': ['tanh', 'relu'],\n",
       "                                        'hidden_layer_sizes': [(50,), (100,),\n",
       "                                                               (150,)],\n",
       "                                        'learning_rate': ['constant',\n",
       "                                                          'adaptive'],\n",
       "                                        'solver': ['adam', 'sgd']})"
      ]
     },
     "execution_count": 36,
     "metadata": {},
     "output_type": "execute_result"
    }
   ],
   "source": [
    "from sklearn.neural_network import MLPClassifier\n",
    "\n",
    "param_grid = {\n",
    "    'hidden_layer_sizes': [(50,), (100,), (150,)],\n",
    "    'activation': ['tanh', 'relu'],\n",
    "    'solver': ['adam', 'sgd'],\n",
    "    'learning_rate': ['constant', 'adaptive']\n",
    "}\n",
    "\n",
    "model_mlp = MLPClassifier(random_state=42)\n",
    "random_search = RandomizedSearchCV(model_mlp, param_distributions=param_grid, n_iter=10, cv=3)\n",
    "random_search.fit(X_train, y_train)"
   ]
  },
  {
   "cell_type": "code",
   "execution_count": 37,
   "id": "8fbe5d5c",
   "metadata": {
    "execution": {
     "iopub.execute_input": "2025-08-12T20:08:21.662102Z",
     "iopub.status.busy": "2025-08-12T20:08:21.661881Z",
     "iopub.status.idle": "2025-08-12T20:08:21.676236Z",
     "shell.execute_reply": "2025-08-12T20:08:21.675546Z"
    },
    "papermill": {
     "duration": 0.029507,
     "end_time": "2025-08-12T20:08:21.677302",
     "exception": false,
     "start_time": "2025-08-12T20:08:21.647795",
     "status": "completed"
    },
    "tags": []
   },
   "outputs": [
    {
     "name": "stdout",
     "output_type": "stream",
     "text": [
      "Best parameters found:  {'solver': 'adam', 'learning_rate': 'adaptive', 'hidden_layer_sizes': (100,), 'activation': 'relu'}\n",
      "MLP - Accuracy (After Hyperparameter Tuning): 0.8774574049803407\n",
      "MLP - Classification Report (After Hyperparameter Tuning):               precision    recall  f1-score   support\n",
      "\n",
      "           0       0.93      0.82      0.87       766\n",
      "           1       0.84      0.93      0.88       760\n",
      "\n",
      "    accuracy                           0.88      1526\n",
      "   macro avg       0.88      0.88      0.88      1526\n",
      "weighted avg       0.88      0.88      0.88      1526\n",
      "\n",
      "MLP - Confusion_matrix (After Hyperparameter Tuning): [[629 137]\n",
      " [ 50 710]]\n"
     ]
    }
   ],
   "source": [
    "print(\"Best parameters found: \", random_search.best_params_)\n",
    "\n",
    "best_model_mlp = random_search.best_estimator_\n",
    "\n",
    "y_pred_mlp = best_model_mlp.predict(X_test)\n",
    "\n",
    "print(\"MLP - Accuracy (After Hyperparameter Tuning):\", accuracy_score(y_test, y_pred_mlp))\n",
    "print(\"MLP - Classification Report (After Hyperparameter Tuning):\", classification_report(y_test, y_pred_mlp))\n",
    "print(\"MLP - Confusion_matrix (After Hyperparameter Tuning):\", confusion_matrix(y_test, y_pred_mlp))\n"
   ]
  },
  {
   "cell_type": "markdown",
   "id": "c6542872",
   "metadata": {
    "papermill": {
     "duration": 0.013308,
     "end_time": "2025-08-12T20:08:21.704285",
     "exception": false,
     "start_time": "2025-08-12T20:08:21.690977",
     "status": "completed"
    },
    "tags": []
   },
   "source": [
    "## 4. SVC"
   ]
  },
  {
   "cell_type": "code",
   "execution_count": 38,
   "id": "6d9e7ae1",
   "metadata": {
    "execution": {
     "iopub.execute_input": "2025-08-12T20:08:21.731959Z",
     "iopub.status.busy": "2025-08-12T20:08:21.731464Z",
     "iopub.status.idle": "2025-08-12T20:08:38.941833Z",
     "shell.execute_reply": "2025-08-12T20:08:38.941092Z"
    },
    "papermill": {
     "duration": 17.225692,
     "end_time": "2025-08-12T20:08:38.943221",
     "exception": false,
     "start_time": "2025-08-12T20:08:21.717529",
     "status": "completed"
    },
    "tags": []
   },
   "outputs": [
    {
     "data": {
      "text/html": [
       "<style>#sk-container-id-8 {color: black;background-color: white;}#sk-container-id-8 pre{padding: 0;}#sk-container-id-8 div.sk-toggleable {background-color: white;}#sk-container-id-8 label.sk-toggleable__label {cursor: pointer;display: block;width: 100%;margin-bottom: 0;padding: 0.3em;box-sizing: border-box;text-align: center;}#sk-container-id-8 label.sk-toggleable__label-arrow:before {content: \"▸\";float: left;margin-right: 0.25em;color: #696969;}#sk-container-id-8 label.sk-toggleable__label-arrow:hover:before {color: black;}#sk-container-id-8 div.sk-estimator:hover label.sk-toggleable__label-arrow:before {color: black;}#sk-container-id-8 div.sk-toggleable__content {max-height: 0;max-width: 0;overflow: hidden;text-align: left;background-color: #f0f8ff;}#sk-container-id-8 div.sk-toggleable__content pre {margin: 0.2em;color: black;border-radius: 0.25em;background-color: #f0f8ff;}#sk-container-id-8 input.sk-toggleable__control:checked~div.sk-toggleable__content {max-height: 200px;max-width: 100%;overflow: auto;}#sk-container-id-8 input.sk-toggleable__control:checked~label.sk-toggleable__label-arrow:before {content: \"▾\";}#sk-container-id-8 div.sk-estimator input.sk-toggleable__control:checked~label.sk-toggleable__label {background-color: #d4ebff;}#sk-container-id-8 div.sk-label input.sk-toggleable__control:checked~label.sk-toggleable__label {background-color: #d4ebff;}#sk-container-id-8 input.sk-hidden--visually {border: 0;clip: rect(1px 1px 1px 1px);clip: rect(1px, 1px, 1px, 1px);height: 1px;margin: -1px;overflow: hidden;padding: 0;position: absolute;width: 1px;}#sk-container-id-8 div.sk-estimator {font-family: monospace;background-color: #f0f8ff;border: 1px dotted black;border-radius: 0.25em;box-sizing: border-box;margin-bottom: 0.5em;}#sk-container-id-8 div.sk-estimator:hover {background-color: #d4ebff;}#sk-container-id-8 div.sk-parallel-item::after {content: \"\";width: 100%;border-bottom: 1px solid gray;flex-grow: 1;}#sk-container-id-8 div.sk-label:hover label.sk-toggleable__label {background-color: #d4ebff;}#sk-container-id-8 div.sk-serial::before {content: \"\";position: absolute;border-left: 1px solid gray;box-sizing: border-box;top: 0;bottom: 0;left: 50%;z-index: 0;}#sk-container-id-8 div.sk-serial {display: flex;flex-direction: column;align-items: center;background-color: white;padding-right: 0.2em;padding-left: 0.2em;position: relative;}#sk-container-id-8 div.sk-item {position: relative;z-index: 1;}#sk-container-id-8 div.sk-parallel {display: flex;align-items: stretch;justify-content: center;background-color: white;position: relative;}#sk-container-id-8 div.sk-item::before, #sk-container-id-8 div.sk-parallel-item::before {content: \"\";position: absolute;border-left: 1px solid gray;box-sizing: border-box;top: 0;bottom: 0;left: 50%;z-index: -1;}#sk-container-id-8 div.sk-parallel-item {display: flex;flex-direction: column;z-index: 1;position: relative;background-color: white;}#sk-container-id-8 div.sk-parallel-item:first-child::after {align-self: flex-end;width: 50%;}#sk-container-id-8 div.sk-parallel-item:last-child::after {align-self: flex-start;width: 50%;}#sk-container-id-8 div.sk-parallel-item:only-child::after {width: 0;}#sk-container-id-8 div.sk-dashed-wrapped {border: 1px dashed gray;margin: 0 0.4em 0.5em 0.4em;box-sizing: border-box;padding-bottom: 0.4em;background-color: white;}#sk-container-id-8 div.sk-label label {font-family: monospace;font-weight: bold;display: inline-block;line-height: 1.2em;}#sk-container-id-8 div.sk-label-container {text-align: center;}#sk-container-id-8 div.sk-container {/* jupyter's `normalize.less` sets `[hidden] { display: none; }` but bootstrap.min.css set `[hidden] { display: none !important; }` so we also need the `!important` here to be able to override the default hidden behavior on the sphinx rendered scikit-learn.org. See: https://github.com/scikit-learn/scikit-learn/issues/21755 */display: inline-block !important;position: relative;}#sk-container-id-8 div.sk-text-repr-fallback {display: none;}</style><div id=\"sk-container-id-8\" class=\"sk-top-container\"><div class=\"sk-text-repr-fallback\"><pre>GridSearchCV(cv=3, estimator=SVC(random_state=42), n_jobs=-1,\n",
       "             param_grid={&#x27;C&#x27;: [0.1, 1, 10, 100],\n",
       "                         &#x27;gamma&#x27;: [&#x27;scale&#x27;, &#x27;auto&#x27;, 0.001, 0.01],\n",
       "                         &#x27;kernel&#x27;: [&#x27;rbf&#x27;]})</pre><b>In a Jupyter environment, please rerun this cell to show the HTML representation or trust the notebook. <br />On GitHub, the HTML representation is unable to render, please try loading this page with nbviewer.org.</b></div><div class=\"sk-container\" hidden><div class=\"sk-item sk-dashed-wrapped\"><div class=\"sk-label-container\"><div class=\"sk-label sk-toggleable\"><input class=\"sk-toggleable__control sk-hidden--visually\" id=\"sk-estimator-id-14\" type=\"checkbox\" ><label for=\"sk-estimator-id-14\" class=\"sk-toggleable__label sk-toggleable__label-arrow\">GridSearchCV</label><div class=\"sk-toggleable__content\"><pre>GridSearchCV(cv=3, estimator=SVC(random_state=42), n_jobs=-1,\n",
       "             param_grid={&#x27;C&#x27;: [0.1, 1, 10, 100],\n",
       "                         &#x27;gamma&#x27;: [&#x27;scale&#x27;, &#x27;auto&#x27;, 0.001, 0.01],\n",
       "                         &#x27;kernel&#x27;: [&#x27;rbf&#x27;]})</pre></div></div></div><div class=\"sk-parallel\"><div class=\"sk-parallel-item\"><div class=\"sk-item\"><div class=\"sk-label-container\"><div class=\"sk-label sk-toggleable\"><input class=\"sk-toggleable__control sk-hidden--visually\" id=\"sk-estimator-id-15\" type=\"checkbox\" ><label for=\"sk-estimator-id-15\" class=\"sk-toggleable__label sk-toggleable__label-arrow\">estimator: SVC</label><div class=\"sk-toggleable__content\"><pre>SVC(random_state=42)</pre></div></div></div><div class=\"sk-serial\"><div class=\"sk-item\"><div class=\"sk-estimator sk-toggleable\"><input class=\"sk-toggleable__control sk-hidden--visually\" id=\"sk-estimator-id-16\" type=\"checkbox\" ><label for=\"sk-estimator-id-16\" class=\"sk-toggleable__label sk-toggleable__label-arrow\">SVC</label><div class=\"sk-toggleable__content\"><pre>SVC(random_state=42)</pre></div></div></div></div></div></div></div></div></div></div>"
      ],
      "text/plain": [
       "GridSearchCV(cv=3, estimator=SVC(random_state=42), n_jobs=-1,\n",
       "             param_grid={'C': [0.1, 1, 10, 100],\n",
       "                         'gamma': ['scale', 'auto', 0.001, 0.01],\n",
       "                         'kernel': ['rbf']})"
      ]
     },
     "execution_count": 38,
     "metadata": {},
     "output_type": "execute_result"
    }
   ],
   "source": [
    "param_grid_svm = {\n",
    "    'C': [0.1, 1, 10, 100],  # Regularization parameter\n",
    "    'gamma': ['scale', 'auto', 0.001, 0.01],  # Kernel coefficient\n",
    "    'kernel': ['rbf']  # RBF kernel\n",
    "}\n",
    "\n",
    "grid_search_svm = GridSearchCV(estimator=model_rbf, param_grid=param_grid_svm, cv=3, n_jobs=-1)\n",
    "grid_search_svm.fit(X_train, y_train)"
   ]
  },
  {
   "cell_type": "code",
   "execution_count": 39,
   "id": "e343e013",
   "metadata": {
    "execution": {
     "iopub.execute_input": "2025-08-12T20:08:38.972785Z",
     "iopub.status.busy": "2025-08-12T20:08:38.972473Z",
     "iopub.status.idle": "2025-08-12T20:08:39.133177Z",
     "shell.execute_reply": "2025-08-12T20:08:39.132364Z"
    },
    "papermill": {
     "duration": 0.177075,
     "end_time": "2025-08-12T20:08:39.134824",
     "exception": false,
     "start_time": "2025-08-12T20:08:38.957749",
     "status": "completed"
    },
    "tags": []
   },
   "outputs": [
    {
     "name": "stdout",
     "output_type": "stream",
     "text": [
      "Best Parameters for SVM with RBF Kernel: {'C': 100, 'gamma': 'scale', 'kernel': 'rbf'}\n",
      "Best Cross-validation Score for SVM with RBF Kernel: 0.8774172402490986\n",
      "SVM with RBF Kernel - Accuracy: 0.8748361730013107\n",
      "              precision    recall  f1-score   support\n",
      "\n",
      "           0       0.94      0.80      0.87       766\n",
      "           1       0.83      0.95      0.88       760\n",
      "\n",
      "    accuracy                           0.87      1526\n",
      "   macro avg       0.88      0.88      0.87      1526\n",
      "weighted avg       0.88      0.87      0.87      1526\n",
      "\n",
      "Confusion Matrix:\n",
      " [[614 152]\n",
      " [ 39 721]]\n"
     ]
    }
   ],
   "source": [
    "print(\"Best Parameters for SVM with RBF Kernel:\", grid_search_svm.best_params_)\n",
    "print(\"Best Cross-validation Score for SVM with RBF Kernel:\", grid_search_svm.best_score_)\n",
    "\n",
    "best_model_svm = grid_search_svm.best_estimator_\n",
    "y_pred_svm = best_model_svm.predict(X_test)\n",
    "\n",
    "print(\"SVM with RBF Kernel - Accuracy:\", accuracy_score(y_test, y_pred_svm))\n",
    "print(classification_report(y_test, y_pred_svm))\n",
    "print(\"Confusion Matrix:\\n\", confusion_matrix(y_test, y_pred_svm))"
   ]
  },
  {
   "cell_type": "markdown",
   "id": "f3bd14ab",
   "metadata": {
    "papermill": {
     "duration": 0.013673,
     "end_time": "2025-08-12T20:08:39.169605",
     "exception": false,
     "start_time": "2025-08-12T20:08:39.155932",
     "status": "completed"
    },
    "tags": []
   },
   "source": [
    "# Overfitting and uderfitting concern"
   ]
  },
  {
   "cell_type": "markdown",
   "id": "f5ad25df",
   "metadata": {
    "papermill": {
     "duration": 0.013702,
     "end_time": "2025-08-12T20:08:39.197546",
     "exception": false,
     "start_time": "2025-08-12T20:08:39.183844",
     "status": "completed"
    },
    "tags": []
   },
   "source": [
    "## Training and test accuracy"
   ]
  },
  {
   "cell_type": "code",
   "execution_count": 40,
   "id": "2f2bb568",
   "metadata": {
    "execution": {
     "iopub.execute_input": "2025-08-12T20:08:39.226133Z",
     "iopub.status.busy": "2025-08-12T20:08:39.225887Z",
     "iopub.status.idle": "2025-08-12T20:08:40.084528Z",
     "shell.execute_reply": "2025-08-12T20:08:40.083687Z"
    },
    "papermill": {
     "duration": 0.874452,
     "end_time": "2025-08-12T20:08:40.085853",
     "exception": false,
     "start_time": "2025-08-12T20:08:39.211401",
     "status": "completed"
    },
    "tags": []
   },
   "outputs": [
    {
     "name": "stdout",
     "output_type": "stream",
     "text": [
      "Perceptron (Tuned) - Train Accuracy: 0.7043592264831203, Test Accuracy: 0.7083879423328965\n",
      "MLP (Tuned) - Train Accuracy: 0.8944608325139298, Test Accuracy: 0.8774574049803407\n",
      "Random Forest (Tuned) - Train Accuracy: 0.9015077023926581, Test Accuracy: 0.8905635648754915\n",
      "SVM with RBF Kernel (Tuned) - Train Accuracy: 0.8936414290396592, Test Accuracy: 0.8748361730013107\n"
     ]
    }
   ],
   "source": [
    "# Check training and test accuracy for Perceptron\n",
    "train_accuracy_perceptron = best_model_perceptron.score(X_train, y_train)\n",
    "test_accuracy_perceptron = best_model_perceptron.score(X_test, y_test)\n",
    "\n",
    "print(f\"Perceptron (Tuned) - Train Accuracy: {train_accuracy_perceptron}, Test Accuracy: {test_accuracy_perceptron}\")\n",
    "\n",
    "# Check training and test accuracy for MLP\n",
    "train_accuracy_mlp = best_model_mlp.score(X_train, y_train)\n",
    "test_accuracy_mlp = best_model_mlp.score(X_test, y_test)\n",
    "\n",
    "print(f\"MLP (Tuned) - Train Accuracy: {train_accuracy_mlp}, Test Accuracy: {test_accuracy_mlp}\")\n",
    "\n",
    "# Check training and test accuracy for Random Forest\n",
    "train_accuracy_rf = best_rf_model.score(X_train, y_train)\n",
    "test_accuracy_rf = best_rf_model.score(X_test, y_test)\n",
    "\n",
    "print(f\"Random Forest (Tuned) - Train Accuracy: {train_accuracy_rf}, Test Accuracy: {test_accuracy_rf}\")\n",
    "\n",
    "# Check training and test accuracy for SVM\n",
    "train_accuracy_svm = best_model_svm.score(X_train, y_train)\n",
    "test_accuracy_svm = best_model_svm.score(X_test, y_test)\n",
    "\n",
    "print(f\"SVM with RBF Kernel (Tuned) - Train Accuracy: {train_accuracy_svm}, Test Accuracy: {test_accuracy_svm}\")\n",
    "\n",
    "# Overfitting: If train accuracy is much higher than test accuracy, the model may be overfitting.\n",
    "# Underfitting: If both are low, the model may be underfitting."
   ]
  },
  {
   "cell_type": "markdown",
   "id": "75a899fd",
   "metadata": {
    "papermill": {
     "duration": 0.013705,
     "end_time": "2025-08-12T20:08:40.114013",
     "exception": false,
     "start_time": "2025-08-12T20:08:40.100308",
     "status": "completed"
    },
    "tags": []
   },
   "source": [
    "## Cofusion matrix and classification report for tunned models"
   ]
  },
  {
   "cell_type": "code",
   "execution_count": 41,
   "id": "4c2672e1",
   "metadata": {
    "execution": {
     "iopub.execute_input": "2025-08-12T20:08:40.142274Z",
     "iopub.status.busy": "2025-08-12T20:08:40.142068Z",
     "iopub.status.idle": "2025-08-12T20:08:40.516809Z",
     "shell.execute_reply": "2025-08-12T20:08:40.515952Z"
    },
    "papermill": {
     "duration": 0.390251,
     "end_time": "2025-08-12T20:08:40.517906",
     "exception": false,
     "start_time": "2025-08-12T20:08:40.127655",
     "status": "completed"
    },
    "tags": []
   },
   "outputs": [
    {
     "name": "stdout",
     "output_type": "stream",
     "text": [
      "Perceptron (Tuned) - Classification Report:\n",
      "              precision    recall  f1-score   support\n",
      "\n",
      "           0       0.66      0.88      0.75       766\n",
      "           1       0.82      0.53      0.65       760\n",
      "\n",
      "    accuracy                           0.71      1526\n",
      "   macro avg       0.74      0.71      0.70      1526\n",
      "weighted avg       0.74      0.71      0.70      1526\n",
      "\n",
      "Perceptron (Tuned) - Confusion Matrix:\n",
      "[[676  90]\n",
      " [355 405]]\n",
      "MLP (Tuned) - Classification Report:\n",
      "              precision    recall  f1-score   support\n",
      "\n",
      "           0       0.93      0.82      0.87       766\n",
      "           1       0.84      0.93      0.88       760\n",
      "\n",
      "    accuracy                           0.88      1526\n",
      "   macro avg       0.88      0.88      0.88      1526\n",
      "weighted avg       0.88      0.88      0.88      1526\n",
      "\n",
      "MLP (Tuned) - Confusion Matrix:\n",
      "[[629 137]\n",
      " [ 50 710]]\n",
      "Random Forest (Tuned) - Classification Report:\n",
      "              precision    recall  f1-score   support\n",
      "\n",
      "           0       0.95      0.83      0.88       766\n",
      "           1       0.85      0.96      0.90       760\n",
      "\n",
      "    accuracy                           0.89      1526\n",
      "   macro avg       0.90      0.89      0.89      1526\n",
      "weighted avg       0.90      0.89      0.89      1526\n",
      "\n",
      "Random Forest (Tuned) - Confusion Matrix:\n",
      "[[633 133]\n",
      " [ 34 726]]\n",
      "SVM with RBF Kernel (Tuned) - Classification Report:\n",
      "              precision    recall  f1-score   support\n",
      "\n",
      "           0       0.94      0.80      0.87       766\n",
      "           1       0.83      0.95      0.88       760\n",
      "\n",
      "    accuracy                           0.87      1526\n",
      "   macro avg       0.88      0.88      0.87      1526\n",
      "weighted avg       0.88      0.87      0.87      1526\n",
      "\n",
      "SVM with RBF Kernel (Tuned) - Confusion Matrix:\n",
      "[[614 152]\n",
      " [ 39 721]]\n"
     ]
    }
   ],
   "source": [
    "from sklearn.metrics import classification_report, confusion_matrix\n",
    "\n",
    "# Perceptron (Tuned)\n",
    "print(\"Perceptron (Tuned) - Classification Report:\")\n",
    "print(classification_report(y_test, best_model_perceptron.predict(X_test)))\n",
    "print(\"Perceptron (Tuned) - Confusion Matrix:\")\n",
    "print(confusion_matrix(y_test, best_model_perceptron.predict(X_test)))\n",
    "\n",
    "# MLP (Tuned)\n",
    "print(\"MLP (Tuned) - Classification Report:\")\n",
    "print(classification_report(y_test, best_model_mlp.predict(X_test)))\n",
    "print(\"MLP (Tuned) - Confusion Matrix:\")\n",
    "print(confusion_matrix(y_test, best_model_mlp.predict(X_test)))\n",
    "\n",
    "# Random Forest (Tuned)\n",
    "print(\"Random Forest (Tuned) - Classification Report:\")\n",
    "print(classification_report(y_test, best_rf_model.predict(X_test)))\n",
    "print(\"Random Forest (Tuned) - Confusion Matrix:\")\n",
    "print(confusion_matrix(y_test, best_rf_model.predict(X_test)))\n",
    "\n",
    "# SVM with RBF Kernel (Tuned)\n",
    "print(\"SVM with RBF Kernel (Tuned) - Classification Report:\")\n",
    "print(classification_report(y_test, best_model_svm.predict(X_test)))\n",
    "print(\"SVM with RBF Kernel (Tuned) - Confusion Matrix:\")\n",
    "print(confusion_matrix(y_test, best_model_svm.predict(X_test)))\n"
   ]
  },
  {
   "cell_type": "markdown",
   "id": "8eba2d9d",
   "metadata": {
    "papermill": {
     "duration": 0.013786,
     "end_time": "2025-08-12T20:08:40.546233",
     "exception": false,
     "start_time": "2025-08-12T20:08:40.532447",
     "status": "completed"
    },
    "tags": []
   },
   "source": [
    "## Cross-validation"
   ]
  },
  {
   "cell_type": "code",
   "execution_count": 42,
   "id": "6e8b12bb",
   "metadata": {
    "execution": {
     "iopub.execute_input": "2025-08-12T20:08:40.575301Z",
     "iopub.status.busy": "2025-08-12T20:08:40.574627Z",
     "iopub.status.idle": "2025-08-12T20:09:07.911238Z",
     "shell.execute_reply": "2025-08-12T20:09:07.910394Z"
    },
    "papermill": {
     "duration": 27.35243,
     "end_time": "2025-08-12T20:09:07.912504",
     "exception": false,
     "start_time": "2025-08-12T20:08:40.560074",
     "status": "completed"
    },
    "tags": []
   },
   "outputs": [
    {
     "name": "stdout",
     "output_type": "stream",
     "text": [
      "Perceptron (Tuned) - Cross-validation scores: 0.6701092896174863\n"
     ]
    },
    {
     "name": "stderr",
     "output_type": "stream",
     "text": [
      "/usr/local/lib/python3.11/dist-packages/sklearn/neural_network/_multilayer_perceptron.py:686: ConvergenceWarning: Stochastic Optimizer: Maximum iterations (200) reached and the optimization hasn't converged yet.\n",
      "  warnings.warn(\n",
      "/usr/local/lib/python3.11/dist-packages/sklearn/neural_network/_multilayer_perceptron.py:686: ConvergenceWarning: Stochastic Optimizer: Maximum iterations (200) reached and the optimization hasn't converged yet.\n",
      "  warnings.warn(\n",
      "/usr/local/lib/python3.11/dist-packages/sklearn/neural_network/_multilayer_perceptron.py:686: ConvergenceWarning: Stochastic Optimizer: Maximum iterations (200) reached and the optimization hasn't converged yet.\n",
      "  warnings.warn(\n",
      "/usr/local/lib/python3.11/dist-packages/sklearn/neural_network/_multilayer_perceptron.py:686: ConvergenceWarning: Stochastic Optimizer: Maximum iterations (200) reached and the optimization hasn't converged yet.\n",
      "  warnings.warn(\n",
      "/usr/local/lib/python3.11/dist-packages/sklearn/neural_network/_multilayer_perceptron.py:686: ConvergenceWarning: Stochastic Optimizer: Maximum iterations (200) reached and the optimization hasn't converged yet.\n",
      "  warnings.warn(\n"
     ]
    },
    {
     "name": "stdout",
     "output_type": "stream",
     "text": [
      "MLP (Tuned) - Cross-validation scores: 0.8784030826653778\n",
      "Random Forest (Tuned) - Cross-validation scores: 0.8890557323344208\n",
      "SVM with RBF Kernel (Tuned) - Cross-validation scores: 0.8769284784038882\n"
     ]
    }
   ],
   "source": [
    "from sklearn.model_selection import cross_val_score\n",
    "\n",
    "# Cross-validation for Perceptron (Tuned)\n",
    "cv_scores_perceptron = cross_val_score(best_model_perceptron, X_train, y_train, cv=5)\n",
    "print(f\"Perceptron (Tuned) - Cross-validation scores: {cv_scores_perceptron.mean()}\")\n",
    "\n",
    "# Cross-validation for MLP (Tuned)\n",
    "cv_scores_mlp = cross_val_score(best_model_mlp, X_train, y_train, cv=5)\n",
    "print(f\"MLP (Tuned) - Cross-validation scores: {cv_scores_mlp.mean()}\")\n",
    "\n",
    "# Cross-validation for Random Forest (Tuned)\n",
    "cv_scores_rf = cross_val_score(best_rf_model, X_train, y_train, cv=5)\n",
    "print(f\"Random Forest (Tuned) - Cross-validation scores: {cv_scores_rf.mean()}\")\n",
    "\n",
    "# Cross-validation for SVM with RBF Kernel (Tuned)\n",
    "cv_scores_svm = cross_val_score(best_model_svm, X_train, y_train, cv=5)\n",
    "print(f\"SVM with RBF Kernel (Tuned) - Cross-validation scores: {cv_scores_svm.mean()}\")\n"
   ]
  },
  {
   "cell_type": "markdown",
   "id": "94b05a53",
   "metadata": {
    "papermill": {
     "duration": 0.014263,
     "end_time": "2025-08-12T20:09:07.941949",
     "exception": false,
     "start_time": "2025-08-12T20:09:07.927686",
     "status": "completed"
    },
    "tags": []
   },
   "source": [
    "## Learning curves"
   ]
  },
  {
   "cell_type": "code",
   "execution_count": 43,
   "id": "dbdc6e44",
   "metadata": {
    "execution": {
     "iopub.execute_input": "2025-08-12T20:09:07.972009Z",
     "iopub.status.busy": "2025-08-12T20:09:07.971222Z",
     "iopub.status.idle": "2025-08-12T20:09:55.029412Z",
     "shell.execute_reply": "2025-08-12T20:09:55.028683Z"
    },
    "papermill": {
     "duration": 47.074404,
     "end_time": "2025-08-12T20:09:55.030593",
     "exception": false,
     "start_time": "2025-08-12T20:09:07.956189",
     "status": "completed"
    },
    "tags": []
   },
   "outputs": [
    {
     "data": {
      "image/png": "[encoded data removed]",
      "text/plain": [
       "<Figure size 640x480 with 1 Axes>"
      ]
     },
     "metadata": {},
     "output_type": "display_data"
    },
    {
     "name": "stderr",
     "output_type": "stream",
     "text": [
      "/usr/local/lib/python3.11/dist-packages/sklearn/neural_network/_multilayer_perceptron.py:686: ConvergenceWarning: Stochastic Optimizer: Maximum iterations (200) reached and the optimization hasn't converged yet.\n",
      "  warnings.warn(\n",
      "/usr/local/lib/python3.11/dist-packages/sklearn/neural_network/_multilayer_perceptron.py:686: ConvergenceWarning: Stochastic Optimizer: Maximum iterations (200) reached and the optimization hasn't converged yet.\n",
      "  warnings.warn(\n",
      "/usr/local/lib/python3.11/dist-packages/sklearn/neural_network/_multilayer_perceptron.py:686: ConvergenceWarning: Stochastic Optimizer: Maximum iterations (200) reached and the optimization hasn't converged yet.\n",
      "  warnings.warn(\n",
      "/usr/local/lib/python3.11/dist-packages/sklearn/neural_network/_multilayer_perceptron.py:686: ConvergenceWarning: Stochastic Optimizer: Maximum iterations (200) reached and the optimization hasn't converged yet.\n",
      "  warnings.warn(\n",
      "/usr/local/lib/python3.11/dist-packages/sklearn/neural_network/_multilayer_perceptron.py:686: ConvergenceWarning: Stochastic Optimizer: Maximum iterations (200) reached and the optimization hasn't converged yet.\n",
      "  warnings.warn(\n",
      "/usr/local/lib/python3.11/dist-packages/sklearn/neural_network/_multilayer_perceptron.py:686: ConvergenceWarning: Stochastic Optimizer: Maximum iterations (200) reached and the optimization hasn't converged yet.\n",
      "  warnings.warn(\n",
      "/usr/local/lib/python3.11/dist-packages/sklearn/neural_network/_multilayer_perceptron.py:686: ConvergenceWarning: Stochastic Optimizer: Maximum iterations (200) reached and the optimization hasn't converged yet.\n",
      "  warnings.warn(\n",
      "/usr/local/lib/python3.11/dist-packages/sklearn/neural_network/_multilayer_perceptron.py:686: ConvergenceWarning: Stochastic Optimizer: Maximum iterations (200) reached and the optimization hasn't converged yet.\n",
      "  warnings.warn(\n",
      "/usr/local/lib/python3.11/dist-packages/sklearn/neural_network/_multilayer_perceptron.py:686: ConvergenceWarning: Stochastic Optimizer: Maximum iterations (200) reached and the optimization hasn't converged yet.\n",
      "  warnings.warn(\n",
      "/usr/local/lib/python3.11/dist-packages/sklearn/neural_network/_multilayer_perceptron.py:686: ConvergenceWarning: Stochastic Optimizer: Maximum iterations (200) reached and the optimization hasn't converged yet.\n",
      "  warnings.warn(\n",
      "/usr/local/lib/python3.11/dist-packages/sklearn/neural_network/_multilayer_perceptron.py:686: ConvergenceWarning: Stochastic Optimizer: Maximum iterations (200) reached and the optimization hasn't converged yet.\n",
      "  warnings.warn(\n",
      "/usr/local/lib/python3.11/dist-packages/sklearn/neural_network/_multilayer_perceptron.py:686: ConvergenceWarning: Stochastic Optimizer: Maximum iterations (200) reached and the optimization hasn't converged yet.\n",
      "  warnings.warn(\n",
      "/usr/local/lib/python3.11/dist-packages/sklearn/neural_network/_multilayer_perceptron.py:686: ConvergenceWarning: Stochastic Optimizer: Maximum iterations (200) reached and the optimization hasn't converged yet.\n",
      "  warnings.warn(\n",
      "/usr/local/lib/python3.11/dist-packages/sklearn/neural_network/_multilayer_perceptron.py:686: ConvergenceWarning: Stochastic Optimizer: Maximum iterations (200) reached and the optimization hasn't converged yet.\n",
      "  warnings.warn(\n",
      "/usr/local/lib/python3.11/dist-packages/sklearn/neural_network/_multilayer_perceptron.py:686: ConvergenceWarning: Stochastic Optimizer: Maximum iterations (200) reached and the optimization hasn't converged yet.\n",
      "  warnings.warn(\n",
      "/usr/local/lib/python3.11/dist-packages/sklearn/neural_network/_multilayer_perceptron.py:686: ConvergenceWarning: Stochastic Optimizer: Maximum iterations (200) reached and the optimization hasn't converged yet.\n",
      "  warnings.warn(\n",
      "/usr/local/lib/python3.11/dist-packages/sklearn/neural_network/_multilayer_perceptron.py:686: ConvergenceWarning: Stochastic Optimizer: Maximum iterations (200) reached and the optimization hasn't converged yet.\n",
      "  warnings.warn(\n",
      "/usr/local/lib/python3.11/dist-packages/sklearn/neural_network/_multilayer_perceptron.py:686: ConvergenceWarning: Stochastic Optimizer: Maximum iterations (200) reached and the optimization hasn't converged yet.\n",
      "  warnings.warn(\n"
     ]
    },
    {
     "data": {
      "image/png": "[encoded data removed]",
      "text/plain": [
       "<Figure size 640x480 with 1 Axes>"
      ]
     },
     "metadata": {},
     "output_type": "display_data"
    },
    {
     "data": {
      "image/png": "[encoded data removed]",
      "text/plain": [
       "<Figure size 640x480 with 1 Axes>"
      ]
     },
     "metadata": {},
     "output_type": "display_data"
    },
    {
     "data": {
      "image/png": "[encoded data removed]",
      "text/plain": [
       "<Figure size 640x480 with 1 Axes>"
      ]
     },
     "metadata": {},
     "output_type": "display_data"
    }
   ],
   "source": [
    "from sklearn.model_selection import learning_curve\n",
    "import matplotlib.pyplot as plt\n",
    "\n",
    "# Learning curve for Perceptron (Tuned)\n",
    "train_sizes_perceptron, train_scores_perceptron, test_scores_perceptron = learning_curve(\n",
    "    best_model_perceptron, X_train, y_train, cv=3, train_sizes=[0.1, 0.2, 0.4, 0.6, 0.8, 1.0]\n",
    ")\n",
    "\n",
    "# Plotting the learning curve for Perceptron\n",
    "plt.plot(train_sizes_perceptron, train_scores_perceptron.mean(axis=1), label='Train Accuracy')\n",
    "plt.plot(train_sizes_perceptron, test_scores_perceptron.mean(axis=1), label='Test Accuracy')\n",
    "plt.title('Learning Curve - Perceptron')\n",
    "plt.xlabel('Training Set Size')\n",
    "plt.ylabel('Accuracy')\n",
    "plt.legend()\n",
    "plt.show()\n",
    "\n",
    "# Learning curve for MLP (Tuned)\n",
    "train_sizes_mlp, train_scores_mlp, test_scores_mlp = learning_curve(\n",
    "    best_model_mlp, X_train, y_train, cv=3, train_sizes=[0.1, 0.2, 0.4, 0.6, 0.8, 1.0]\n",
    ")\n",
    "\n",
    "# Plotting the learning curve for MLP\n",
    "plt.plot(train_sizes_mlp, train_scores_mlp.mean(axis=1), label='Train Accuracy')\n",
    "plt.plot(train_sizes_mlp, test_scores_mlp.mean(axis=1), label='Test Accuracy')\n",
    "plt.title('Learning Curve - MLP')\n",
    "plt.xlabel('Training Set Size')\n",
    "plt.ylabel('Accuracy')\n",
    "plt.legend()\n",
    "plt.show()\n",
    "\n",
    "# Similarly, plot for Random Forest and SVM with RBF Kernel\n",
    "\n",
    "# Learning curve for Random Forest (Tuned)\n",
    "train_sizes_rf, train_scores_rf, test_scores_rf = learning_curve(\n",
    "    best_rf_model, X_train, y_train, cv=3, train_sizes=[0.1, 0.2, 0.4, 0.6, 0.8, 1.0]\n",
    ")\n",
    "\n",
    "# Plotting the learning curve for Random Forest\n",
    "plt.plot(train_sizes_rf, train_scores_rf.mean(axis=1), label='Train Accuracy')\n",
    "plt.plot(train_sizes_rf, test_scores_rf.mean(axis=1), label='Test Accuracy')\n",
    "plt.title('Learning Curve - Random Forest')\n",
    "plt.xlabel('Training Set Size')\n",
    "plt.ylabel('Accuracy')\n",
    "plt.legend()\n",
    "plt.show()\n",
    "\n",
    "# Learning curve for SVM with RBF Kernel (Tuned)\n",
    "train_sizes_svm, train_scores_svm, test_scores_svm = learning_curve(\n",
    "    best_model_svm, X_train, y_train, cv=3, train_sizes=[0.1, 0.2, 0.4, 0.6, 0.8, 1.0]\n",
    ")\n",
    "\n",
    "# Plotting the learning curve for SVM with RBF Kernel\n",
    "plt.plot(train_sizes_svm, train_scores_svm.mean(axis=1), label='Train Accuracy')\n",
    "plt.plot(train_sizes_svm, test_scores_svm.mean(axis=1), label='Test Accuracy')\n",
    "plt.title('Learning Curve - SVM with RBF Kernel')\n",
    "plt.xlabel('Training Set Size')\n",
    "plt.ylabel('Accuracy')\n",
    "plt.legend()\n",
    "plt.show()\n"
   ]
  },
  {
   "cell_type": "code",
   "execution_count": 44,
   "id": "f0fc1003",
   "metadata": {
    "execution": {
     "iopub.execute_input": "2025-08-12T20:09:55.068142Z",
     "iopub.status.busy": "2025-08-12T20:09:55.067910Z",
     "iopub.status.idle": "2025-08-12T20:09:55.185227Z",
     "shell.execute_reply": "2025-08-12T20:09:55.184429Z"
    },
    "papermill": {
     "duration": 0.137047,
     "end_time": "2025-08-12T20:09:55.186459",
     "exception": false,
     "start_time": "2025-08-12T20:09:55.049412",
     "status": "completed"
    },
    "tags": []
   },
   "outputs": [
    {
     "data": {
      "image/png": "[encoded data removed]",
      "text/plain": [
       "<Figure size 800x600 with 1 Axes>"
      ]
     },
     "metadata": {},
     "output_type": "display_data"
    }
   ],
   "source": [
    "# Assuming you have the predicted values for each model\n",
    "accuracy_perceptron = accuracy_score(y_test, y_pred_perceptron)\n",
    "accuracy_mlp = accuracy_score(y_test, y_pred_mlp)\n",
    "accuracy_rf = accuracy_score(y_test, y_pred_rf)\n",
    "accuracy_svm = accuracy_score(y_test, y_pred_svm)\n",
    "\n",
    "# List of models and their corresponding accuracies\n",
    "models = ['Perceptron', 'MLP', 'Random Forest', 'SVM with RBF']\n",
    "accuracies = [accuracy_perceptron, accuracy_mlp, accuracy_rf, accuracy_svm]\n",
    "\n",
    "# Create a bar chart for model comparison\n",
    "plt.figure(figsize=(8, 6))\n",
    "plt.bar(models, accuracies, color=['blue', 'green', 'orange', 'red'])\n",
    "\n",
    "# Adding labels and title\n",
    "plt.xlabel('Models')\n",
    "plt.ylabel('Accuracy')\n",
    "plt.title('Model Comparison')\n",
    "plt.show()\n"
   ]
  },
  {
   "cell_type": "markdown",
   "id": "74cdd92f",
   "metadata": {
    "papermill": {
     "duration": 0.017503,
     "end_time": "2025-08-12T20:09:55.223052",
     "exception": false,
     "start_time": "2025-08-12T20:09:55.205549",
     "status": "completed"
    },
    "tags": []
   },
   "source": [
    "This notebook focuses on predicting the likelihood of stroke using various machine learning algorithms.\n",
    "We perform:\n",
    "\n",
    "**Data preprocessing:** handling missing values, encoding categorical features, scaling numerical values.\n",
    "\n",
    "**Exploratory Data Analysis (EDA):** understanding feature distributions and correlations.\n",
    "\n",
    "**Model training & comparison:** Logistic Regression, Random Forest, Decision Tree, SVM, and more.\n",
    "\n",
    "**Performance evaluation:** accuracy, precision, recall, F1-score, and confusion matrix comparison.\n",
    "\n",
    "The goal is to determine the best-performing model for stroke prediction based on evaluation metrics."
   ]
  }
 ],
 "metadata": {
  "kaggle": {
   "accelerator": "gpu",
   "dataSources": [
    {
     "datasetId": 8058291,
     "sourceId": 12747353,
     "sourceType": "datasetVersion"
    }
   ],
   "dockerImageVersionId": 31090,
   "isGpuEnabled": true,
   "isInternetEnabled": true,
   "language": "python",
   "sourceType": "notebook"
  },
  "kernelspec": {
   "display_name": "Python 3",
   "language": "python",
   "name": "python3"
  },
  "language_info": {
   "codemirror_mode": {
    "name": "ipython",
    "version": 3
   },
   "file_extension": ".py",
   "mimetype": "text/x-python",
   "name": "python",
   "nbconvert_exporter": "python",
   "pygments_lexer": "ipython3",
   "version": "3.11.13"
  },
  "papermill": {
   "default_parameters": {},
   "duration": 226.704082,
   "end_time": "2025-08-12T20:09:57.860703",
   "environment_variables": {},
   "exception": null,
   "input_path": "__notebook__.ipynb",
   "output_path": "__notebook__.ipynb",
   "parameters": {},
   "start_time": "2025-08-12T20:06:11.156621",
   "version": "2.6.0"
  }
 },
 "nbformat": 4,
 "nbformat_minor": 5
}
